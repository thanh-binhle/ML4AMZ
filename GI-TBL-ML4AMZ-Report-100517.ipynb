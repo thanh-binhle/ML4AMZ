{
 "cells": [
  {
   "cell_type": "code",
   "execution_count": 216,
   "metadata": {
    "ExecuteTime": {
     "end_time": "2017-05-13T00:01:08.752504Z",
     "start_time": "2017-05-13T00:01:08.744018Z"
    },
    "collapsed": false
   },
   "outputs": [
    {
     "data": {
      "text/html": [
       "<script>jQuery(function() {if (jQuery(\"body.notebook_app\").length == 0) { jQuery(\".input_area\").toggle(); jQuery(\".prompt\").toggle();}});</script>"
      ]
     },
     "metadata": {},
     "output_type": "display_data"
    },
    {
     "data": {
      "text/html": [
       "<button onclick=\"jQuery('.input_area').toggle(); jQuery('.prompt').toggle();\">Toggle code</button>"
      ]
     },
     "metadata": {},
     "output_type": "display_data"
    }
   ],
   "source": [
    "import IPython.core.display as di\n",
    "\n",
    "# This line will hide code by default when the notebook is exported as HTML\n",
    "di.display_html('<script>jQuery(function() {if (jQuery(\"body.notebook_app\").length == 0) { jQuery(\".input_area\").toggle(); jQuery(\".prompt\").toggle();}});</script>', raw=True)\n",
    "\n",
    "# This line will add a button to toggle visibility of code blocks, for use with the HTML export version\n",
    "di.display_html('''<button onclick=\"jQuery('.input_area').toggle(); jQuery('.prompt').toggle();\">Toggle code</button>''', raw=True)"
   ]
  },
  {
   "cell_type": "markdown",
   "metadata": {},
   "source": [
    "# Project: Machine Learning for Amazon Repricing \n",
    "\n",
    "Date: May 10, 2017\n",
    "\n",
    "Authors: Thanh Binh Le, Georgiana Ifrim\n",
    "\n",
    "\n",
    "In this report we analyse a dataset from Xsellco Ltd delivered to us in January 2017.\n",
    "The dataset consists of 119,709 XML files, each XML file is associated with one competition \n",
    "on the Amazon Marketplace platform.\n",
    "A competition is a set of sellers selling the same product on the Amazon platform, at a given point in time.\n",
    "Each seller within a competition places an offer for selling the product at a given price, and with different constraints, such as shipping related constraints (e.g., availability, min time to ship), product related (e.g., new or used), seller profile (positive rating, number of ratings, etc.). Each competition should in principle only have one winner (winning offer), but we actually find that there are several competitions without any winners or with several winners. \n",
    "\n",
    "We discuss several problems we found with the XML data format (e.g., different XML structure) and the competitions (e.g., no winners or multiple winners per competition), and analyse the data characteristics for each of the 7 markets covered by the dataset provided.\n",
    "We discuss how we extract the data from the XML files into a format more amenable for data analytics techniques,\n",
    "as well as the steps for preparing the data for further analysis and for prediction modeling.\n",
    "\n",
    "We find that each market has different data characteristics, with different problems being dominant and different feature importance for predicting the winner. This has implications for how we model the data in each market and for how we may advise customers to update their offer to improve their chances of winning the competition."
   ]
  },
  {
   "cell_type": "markdown",
   "metadata": {},
   "source": [
    "## <font color='darkblue'>From XML to CSV dataset</font>\n",
    "\n",
    "One first step is to parse the XML files into a single CSV dataset that can be use for further data analysis.\n",
    "We do this by parsing every single XML file, and turning each tag <Offer> in the XML file, into a row of the CSV file. This row than describes the features of an offer and the outcome of the offer in the target feature IsBuyBoxWinner.\n",
    "\n",
    "###  <font color='darkblue'>Problem1: Some XML files do not have the correct structure</font>\n",
    "\n",
    "Out of 119,709 XML files,  we can correctly parse 112,710 XML files.\n",
    "We have investigated why the parsing fails on some XML files and found that for those files the XML structure is different.\n",
    "\n",
    "An example correct and incorrect XML structure is shown below."
   ]
  },
  {
   "cell_type": "code",
   "execution_count": 3,
   "metadata": {
    "ExecuteTime": {
     "end_time": "2017-05-13T12:46:19.850244Z",
     "start_time": "2017-05-13T12:46:17.998751Z"
    },
    "collapsed": false,
    "hide_input": true
   },
   "outputs": [],
   "source": [
    "\n",
    "\"\"\"\n",
    "================================\n",
    "Import libraries & functions\n",
    "================================\n",
    "\"\"\"\n",
    "#print(__doc__)\n",
    "# Import pandas, numpy and matplotlib libraries\n",
    "import pandas as pd\n",
    "import numpy as np\n",
    "import matplotlib.pyplot as plt\n",
    "from matplotlib.backends.backend_pdf import PdfPages\n",
    "from xml.etree import ElementTree \n",
    "from lxml import etree\n",
    "import warnings\n",
    "from pylab import rcParams\n",
    "#from skimage import io\n",
    "import seaborn as sb\n",
    "import timeit as time\n",
    "from tabulate import tabulate\n",
    "from IPython.display import clear_output\n",
    "%matplotlib inline\n",
    "warnings.filterwarnings('ignore')\n"
   ]
  },
  {
   "cell_type": "code",
   "execution_count": 151,
   "metadata": {
    "ExecuteTime": {
     "end_time": "2017-05-13T15:59:29.246373Z",
     "start_time": "2017-05-13T15:59:29.211290Z"
    },
    "collapsed": false,
    "hide_input": true
   },
   "outputs": [],
   "source": [
    "# def pieplotting(x,y,explode,title,message):\n",
    "#     colors = ['yellowgreen','red','gold','lightskyblue','white']\n",
    "#     porcent = 100.*y/y.sum()\n",
    "#     patches = plt.pie(y, colors=colors, startangle=90,counterclock=False, radius=1.2,shadow=True,explode=explode)\n",
    "#     labels = ['{0} - {1:1.2f} %'.format(i,j) for i,j in zip(x, porcent)]\n",
    "#     legend = plt.legend(patches[0], labels, loc='left center', bbox_to_anchor=(-0.1, 1.),fontsize=15)\n",
    "#     legend.get_frame().set_facecolor('none')\n",
    "#     plt.axis('equal')\n",
    "#     plt.suptitle(title)\n",
    "#     print(message)\n",
    "#     plt.show()\n",
    "    \n",
    "import math\n",
    "\n",
    "def list_columns(obj, cols=4, columnwise=True, gap=4):\n",
    "    \"\"\"\n",
    "    Print the given list in evenly-spaced columns.\n",
    "\n",
    "    Parameters\n",
    "    ----------\n",
    "    obj : list\n",
    "        The list to be printed.\n",
    "    cols : int\n",
    "        The number of columns in which the list should be printed.\n",
    "    columnwise : bool, default=True\n",
    "        If True, the items in the list will be printed column-wise.\n",
    "        If False the items in the list will be printed row-wise.\n",
    "    gap : int\n",
    "        The number of spaces that should separate the longest column\n",
    "        item/s from the next column. This is the effective spacing\n",
    "        between columns based on the maximum len() of the list items.\n",
    "    \"\"\"\n",
    "\n",
    "    sobj = [str(item) for item in obj]\n",
    "    if cols > len(sobj): cols = len(sobj)\n",
    "    max_len = max([len(item) for item in sobj])\n",
    "    if columnwise: cols = int(math.ceil(float(len(sobj)) / float(cols)))\n",
    "    plist = [sobj[i: i+cols] for i in range(0, len(sobj), cols)]\n",
    "    if columnwise:\n",
    "        if not len(plist[-1]) == cols:\n",
    "            plist[-1].extend(['']*(len(sobj) - len(plist[-1])))\n",
    "        plist = zip(*plist)\n",
    "    printer = '\\n'.join([\n",
    "        ''.join([c.ljust(max_len + gap) for c in p])\n",
    "        for p in plist])\n",
    "    print(printer)"
   ]
  },
  {
   "cell_type": "code",
   "execution_count": 5,
   "metadata": {
    "ExecuteTime": {
     "end_time": "2017-05-13T12:46:20.033215Z",
     "start_time": "2017-05-13T12:46:20.014229Z"
    },
    "collapsed": false,
    "hide_input": true
   },
   "outputs": [
    {
     "name": "stdout",
     "output_type": "stream",
     "text": [
      "XML file: 1454732838.xml\n",
      "\n",
      "\n",
      "<Notification>\n",
      "<NotificationMetaData>\n",
      "\t<NotificationType>AnyOfferChanged</NotificationType>\n",
      "\t<PayloadVersion>1.0</PayloadVersion>\n",
      "\t<UniqueId>864d3c39-83f0-4e36-b5d9-ee7b6cd23a8e</UniqueId>\n",
      "\t<PublishTime>2016-02-06T04:14:57.588Z</PublishTime>\n",
      "\t<SellerId>A3NHQRVGEOAUAF</SellerId>\n",
      "\t<MarketplaceId>A2EUQ1WTGCTBG2</MarketplaceId>\n",
      "</NotificationMetaData>\n",
      "<NotificationPayload>\n",
      "\t<AnyOfferChangedNotification>\n",
      "\t\t<OfferChangeTrigger>\n",
      "\t\t\t<MarketplaceId>A2EUQ1WTGCTBG2</MarketplaceId>\n",
      "\t\t\t<ASIN>B00CG5EH4M</ASIN>\n",
      "\t\t\t\n"
     ]
    }
   ],
   "source": [
    "# Load the normal XML\n",
    "x = etree.parse(\"1454732838.xml\")\n",
    "print(\"XML file: 1454732838.xml\\n\\n\")\n",
    "print(etree.tostring(x, pretty_print = True,encoding=\"unicode\")[:505])\n",
    "#print(etree.tostring(x, pretty_print = True,encoding=\"unicode\"))"
   ]
  },
  {
   "cell_type": "code",
   "execution_count": 6,
   "metadata": {
    "ExecuteTime": {
     "end_time": "2017-05-13T12:46:21.540764Z",
     "start_time": "2017-05-13T12:46:21.528701Z"
    },
    "collapsed": false,
    "hide_input": true
   },
   "outputs": [
    {
     "name": "stdout",
     "output_type": "stream",
     "text": [
      "XML file: 1454627640.xml\n",
      "\n",
      "\n",
      "<GetLowestOfferListingsForSKUResponse xmlns=\"http://mws.amazonservices.com/schema/Products/2011-10-01\">\n",
      "  <GetLowestOfferListingsForSKUResult status=\"Success\">\n",
      "    <AllOfferListingsConsidered>false</AllOfferListingsConsidered>\n",
      "    <Product xmlns=\"http://mws.amazonservices.com/schema/Products/2011-10-01\" xmlns:ns2=\"http://mws.amazonservices.com/schema/Products/2011-10-01/default.xsd\">\n",
      "      <Identifiers>\n",
      "        <MarketplaceASIN>\n",
      "          <MarketplaceId>A2EUQ1WTGCTBG2</MarketplaceId>\n",
      "          <ASIN>B004M0LFSA</ASIN>\n"
     ]
    }
   ],
   "source": [
    "#Load the problem XML \n",
    "x = etree.parse(\"1454627640.xml\")\n",
    "print(\"XML file: 1454627640.xml\\n\\n\")\n",
    "print(etree.tostring(x, pretty_print = True,encoding=\"unicode\")[:522])"
   ]
  },
  {
   "cell_type": "markdown",
   "metadata": {},
   "source": [
    "**Problem1:** Some XML files have a different format. The difference appears in both tagnames and the structure of XML. \n",
    "\n",
    "**Solution:** Ignore XML files with different format.\n",
    "\n",
    "       Summary:    \n",
    "       ---------------------------------------------------------------------------\n",
    "       Total files: 119,709 files    \n",
    "       Parsed files: 112,710  files      \n",
    "       Missing:      6,999 files         \n",
    "       ---------------------------------------------------------------------------"
   ]
  },
  {
   "cell_type": "markdown",
   "metadata": {},
   "source": [
    "### <font color='darkblue'>From XML tags to CSV columns.</font>\n",
    "All the offers under the tag **Offers** become rows in the CSV file. \n",
    "Since each XML file has up to 20 offers, this means that for each competition we generate \n",
    "up to 20 rows in the CSV file.\n",
    "Each **Offer** tag becomes a row in the CSV file, where each tag or subtag, becomes a column name.\n",
    "We give details below for the number of rows and columns generated by parsing 112,710 XML files.\n",
    "For each offer there are at most 17 distinct tags and subtags which generate 17 distinct columns. \n",
    "Beside that, we also add to CSV rows the additional info in each XML file, such as the time of offers change, the market place Id, the product Id, and the seller Id.\n",
    "We modify the values of some tags when converting to CSV as follows:\n",
    "\n",
    "**TimeOfferChange** is split into: Year,\tMonth,\tDay,\tHour,\tMinute,\tSecond,\tMilisecond\n",
    "\n",
    "**ConditionNotes** is missing for many offers, so we turn it into one feature with value 1 (available) or -1 (missing). We currently do not exploit the text of ConditionNotes.\n",
    "\n",
    "**IsBuyBoxWinner** tag becomes a CSV column with the same name, but takes values 1 (positive example, winner is True) or -1 (negative example, winner is False).\n",
    "\n",
    "All other CSV columns are kept with raw values as present in the XML file as **CompetitionName**.\n",
    "Parsing 112,710 XML files results in a CSV file with about 1.3M rows (examples) with 28 columns (features).\n"
   ]
  },
  {
   "cell_type": "markdown",
   "metadata": {},
   "source": [
    "## <font color='darkblue'>Analyse CSV dataset</font>\n",
    "\n",
    "In this section we analyse the raw data and apply a set of transformations:\n",
    "\n",
    "1. We drop duplicated rows or columns. (**Q: Why do duplicated rows exist?**)\n",
    "2. We drop columns with missing data.\n",
    "3. We check the cardinality of each column and drop constant columns.\n",
    "\n",
    "We then check descriptive statistics for each feature (e.g., min, max, deviation, etc.)"
   ]
  },
  {
   "cell_type": "code",
   "execution_count": 7,
   "metadata": {
    "ExecuteTime": {
     "end_time": "2017-05-13T12:46:32.250344Z",
     "start_time": "2017-05-13T12:46:27.153978Z"
    },
    "collapsed": false,
    "hide_input": true
   },
   "outputs": [],
   "source": [
    "\"\"\"\n",
    "================================\n",
    "    Reading dataset\n",
    "================================\n",
    "\"\"\"\n",
    "#print(__doc__)\n",
    "df_ful = pd.read_csv(u\"./100k/full_data.csv\", error_bad_lines=False)"
   ]
  },
  {
   "cell_type": "markdown",
   "metadata": {},
   "source": [
    "### <font color='darkblue'>Number of rows, columns</font>\n"
   ]
  },
  {
   "cell_type": "code",
   "execution_count": 8,
   "metadata": {
    "ExecuteTime": {
     "end_time": "2017-05-13T12:46:34.290137Z",
     "start_time": "2017-05-13T12:46:34.285226Z"
    },
    "collapsed": false,
    "hide_input": true
   },
   "outputs": [
    {
     "name": "stdout",
     "output_type": "stream",
     "text": [
      "Size of data (rows, columns): (1304661,28)\n"
     ]
    }
   ],
   "source": [
    "# \"\"\"\n",
    "# ================================\n",
    "#     Number of rows, columns\n",
    "# ================================\n",
    "# \"\"\"\n",
    "# print(__doc__)\n",
    "print(\"Size of data (rows, columns): ({0},{1})\".format(df_ful.shape[0],df_ful.shape[1]))"
   ]
  },
  {
   "cell_type": "code",
   "execution_count": 9,
   "metadata": {
    "ExecuteTime": {
     "end_time": "2017-05-13T12:46:41.872968Z",
     "start_time": "2017-05-13T12:46:41.867440Z"
    },
    "collapsed": false,
    "hide_input": true
   },
   "outputs": [
    {
     "name": "stdout",
     "output_type": "stream",
     "text": [
      "Column features: \n",
      "================================\n",
      "IsBuyBoxWinner            Minute                    ListingCurrency           ShippingTime_maxHours     \n",
      "MarketplaceId             Second                    SellerFeedbackRating      ShippingTime_availtype    \n",
      "ProductId                 Milisecond                SellerFeedbackCount       ShipsDomestically         \n",
      "Year                      ConditionNotes            SellerId                  ShipsFromCountry          \n",
      "Month                     IsFeaturedMerchant        ShippingPrice              ShipsFromState           \n",
      "Day                       IsFulfilledByAmazon       ShippingCurrency          SubCondition              \n",
      "Hour                      ListingPrice              ShippingTime_minHours     CompetitionName           \n"
     ]
    }
   ],
   "source": [
    "# \"\"\"\n",
    "# ================================\n",
    "#     Show columns\n",
    "# ================================\n",
    "# \"\"\"\n",
    "# print(__doc__)\n",
    "print('Column features: \\n================================')\n",
    "list_columns(df_ful.columns.values)"
   ]
  },
  {
   "cell_type": "code",
   "execution_count": 75,
   "metadata": {
    "ExecuteTime": {
     "end_time": "2017-05-13T13:47:04.901325Z",
     "start_time": "2017-05-13T13:47:04.844032Z"
    },
    "collapsed": false,
    "hide_input": true
   },
   "outputs": [
    {
     "name": "stdout",
     "output_type": "stream",
     "text": [
      "\n",
      "================================\n",
      "    First 10 rows, all columns\n",
      "================================\n",
      "\n"
     ]
    },
    {
     "data": {
      "text/html": [
       "<div>\n",
       "<table border=\"1\" class=\"dataframe\">\n",
       "  <thead>\n",
       "    <tr style=\"text-align: right;\">\n",
       "      <th></th>\n",
       "      <th>IsBuyBoxWinner</th>\n",
       "      <th>MarketplaceId</th>\n",
       "      <th>ProductId</th>\n",
       "      <th>Year</th>\n",
       "      <th>Month</th>\n",
       "      <th>Day</th>\n",
       "      <th>Hour</th>\n",
       "      <th>Minute</th>\n",
       "      <th>Second</th>\n",
       "      <th>Milisecond</th>\n",
       "      <th>...</th>\n",
       "      <th>ShippingPrice</th>\n",
       "      <th>ShippingCurrency</th>\n",
       "      <th>ShippingTime_minHours</th>\n",
       "      <th>ShippingTime_maxHours</th>\n",
       "      <th>ShippingTime_availtype</th>\n",
       "      <th>ShipsDomestically</th>\n",
       "      <th>ShipsFromCountry</th>\n",
       "      <th>ShipsFromState</th>\n",
       "      <th>SubCondition</th>\n",
       "      <th>CompetitionName</th>\n",
       "    </tr>\n",
       "  </thead>\n",
       "  <tbody>\n",
       "    <tr>\n",
       "      <th>0</th>\n",
       "      <td>1</td>\n",
       "      <td>APJ6JRA9NG5V4</td>\n",
       "      <td>B01JGPBFOO</td>\n",
       "      <td>2017</td>\n",
       "      <td>2</td>\n",
       "      <td>2</td>\n",
       "      <td>18</td>\n",
       "      <td>31</td>\n",
       "      <td>46</td>\n",
       "      <td>402</td>\n",
       "      <td>...</td>\n",
       "      <td>0.0</td>\n",
       "      <td>EUR</td>\n",
       "      <td>24</td>\n",
       "      <td>48</td>\n",
       "      <td>NOW</td>\n",
       "      <td>1</td>\n",
       "      <td>IT</td>\n",
       "      <td>NaN</td>\n",
       "      <td>new</td>\n",
       "      <td>0095b1ed-b1...</td>\n",
       "    </tr>\n",
       "    <tr>\n",
       "      <th>1</th>\n",
       "      <td>-1</td>\n",
       "      <td>APJ6JRA9NG5V4</td>\n",
       "      <td>B01JGPBFOO</td>\n",
       "      <td>2017</td>\n",
       "      <td>2</td>\n",
       "      <td>2</td>\n",
       "      <td>18</td>\n",
       "      <td>31</td>\n",
       "      <td>46</td>\n",
       "      <td>402</td>\n",
       "      <td>...</td>\n",
       "      <td>0.0</td>\n",
       "      <td>EUR</td>\n",
       "      <td>24</td>\n",
       "      <td>48</td>\n",
       "      <td>NOW</td>\n",
       "      <td>1</td>\n",
       "      <td>IT</td>\n",
       "      <td>NaN</td>\n",
       "      <td>new</td>\n",
       "      <td>0095b1ed-b1...</td>\n",
       "    </tr>\n",
       "    <tr>\n",
       "      <th>2</th>\n",
       "      <td>1</td>\n",
       "      <td>APJ6JRA9NG5V4</td>\n",
       "      <td>B01JGPBFOO</td>\n",
       "      <td>2017</td>\n",
       "      <td>2</td>\n",
       "      <td>2</td>\n",
       "      <td>18</td>\n",
       "      <td>13</td>\n",
       "      <td>50</td>\n",
       "      <td>977</td>\n",
       "      <td>...</td>\n",
       "      <td>0.0</td>\n",
       "      <td>EUR</td>\n",
       "      <td>24</td>\n",
       "      <td>48</td>\n",
       "      <td>NOW</td>\n",
       "      <td>1</td>\n",
       "      <td>IT</td>\n",
       "      <td>NaN</td>\n",
       "      <td>new</td>\n",
       "      <td>00b27eb6-4f...</td>\n",
       "    </tr>\n",
       "    <tr>\n",
       "      <th>3</th>\n",
       "      <td>-1</td>\n",
       "      <td>APJ6JRA9NG5V4</td>\n",
       "      <td>B01JGPBFOO</td>\n",
       "      <td>2017</td>\n",
       "      <td>2</td>\n",
       "      <td>2</td>\n",
       "      <td>18</td>\n",
       "      <td>13</td>\n",
       "      <td>50</td>\n",
       "      <td>977</td>\n",
       "      <td>...</td>\n",
       "      <td>0.0</td>\n",
       "      <td>EUR</td>\n",
       "      <td>24</td>\n",
       "      <td>48</td>\n",
       "      <td>NOW</td>\n",
       "      <td>1</td>\n",
       "      <td>IT</td>\n",
       "      <td>NaN</td>\n",
       "      <td>new</td>\n",
       "      <td>00b27eb6-4f...</td>\n",
       "    </tr>\n",
       "    <tr>\n",
       "      <th>4</th>\n",
       "      <td>1</td>\n",
       "      <td>APJ6JRA9NG5V4</td>\n",
       "      <td>B01NAWL24O</td>\n",
       "      <td>2017</td>\n",
       "      <td>2</td>\n",
       "      <td>2</td>\n",
       "      <td>23</td>\n",
       "      <td>29</td>\n",
       "      <td>34</td>\n",
       "      <td>912</td>\n",
       "      <td>...</td>\n",
       "      <td>0.0</td>\n",
       "      <td>EUR</td>\n",
       "      <td>24</td>\n",
       "      <td>48</td>\n",
       "      <td>NOW</td>\n",
       "      <td>1</td>\n",
       "      <td>IT</td>\n",
       "      <td>NaN</td>\n",
       "      <td>new</td>\n",
       "      <td>03d942d6-41...</td>\n",
       "    </tr>\n",
       "    <tr>\n",
       "      <th>5</th>\n",
       "      <td>-1</td>\n",
       "      <td>APJ6JRA9NG5V4</td>\n",
       "      <td>B01NAWL24O</td>\n",
       "      <td>2017</td>\n",
       "      <td>2</td>\n",
       "      <td>2</td>\n",
       "      <td>23</td>\n",
       "      <td>29</td>\n",
       "      <td>34</td>\n",
       "      <td>912</td>\n",
       "      <td>...</td>\n",
       "      <td>0.0</td>\n",
       "      <td>EUR</td>\n",
       "      <td>24</td>\n",
       "      <td>48</td>\n",
       "      <td>NOW</td>\n",
       "      <td>1</td>\n",
       "      <td>IT</td>\n",
       "      <td>NaN</td>\n",
       "      <td>new</td>\n",
       "      <td>03d942d6-41...</td>\n",
       "    </tr>\n",
       "    <tr>\n",
       "      <th>6</th>\n",
       "      <td>1</td>\n",
       "      <td>APJ6JRA9NG5V4</td>\n",
       "      <td>B01JGPGIJQ</td>\n",
       "      <td>2017</td>\n",
       "      <td>2</td>\n",
       "      <td>2</td>\n",
       "      <td>23</td>\n",
       "      <td>2</td>\n",
       "      <td>8</td>\n",
       "      <td>243</td>\n",
       "      <td>...</td>\n",
       "      <td>0.0</td>\n",
       "      <td>EUR</td>\n",
       "      <td>24</td>\n",
       "      <td>48</td>\n",
       "      <td>NOW</td>\n",
       "      <td>1</td>\n",
       "      <td>IT</td>\n",
       "      <td>NaN</td>\n",
       "      <td>new</td>\n",
       "      <td>051ba696-d6...</td>\n",
       "    </tr>\n",
       "    <tr>\n",
       "      <th>7</th>\n",
       "      <td>-1</td>\n",
       "      <td>APJ6JRA9NG5V4</td>\n",
       "      <td>B01JGPGIJQ</td>\n",
       "      <td>2017</td>\n",
       "      <td>2</td>\n",
       "      <td>2</td>\n",
       "      <td>23</td>\n",
       "      <td>2</td>\n",
       "      <td>8</td>\n",
       "      <td>243</td>\n",
       "      <td>...</td>\n",
       "      <td>0.0</td>\n",
       "      <td>EUR</td>\n",
       "      <td>24</td>\n",
       "      <td>48</td>\n",
       "      <td>NOW</td>\n",
       "      <td>1</td>\n",
       "      <td>IT</td>\n",
       "      <td>NaN</td>\n",
       "      <td>new</td>\n",
       "      <td>051ba696-d6...</td>\n",
       "    </tr>\n",
       "    <tr>\n",
       "      <th>8</th>\n",
       "      <td>1</td>\n",
       "      <td>APJ6JRA9NG5V4</td>\n",
       "      <td>B01NBY4YQG</td>\n",
       "      <td>2017</td>\n",
       "      <td>2</td>\n",
       "      <td>2</td>\n",
       "      <td>23</td>\n",
       "      <td>6</td>\n",
       "      <td>4</td>\n",
       "      <td>396</td>\n",
       "      <td>...</td>\n",
       "      <td>0.0</td>\n",
       "      <td>EUR</td>\n",
       "      <td>24</td>\n",
       "      <td>48</td>\n",
       "      <td>NOW</td>\n",
       "      <td>1</td>\n",
       "      <td>IT</td>\n",
       "      <td>NaN</td>\n",
       "      <td>new</td>\n",
       "      <td>05e7f80e-02...</td>\n",
       "    </tr>\n",
       "    <tr>\n",
       "      <th>9</th>\n",
       "      <td>-1</td>\n",
       "      <td>APJ6JRA9NG5V4</td>\n",
       "      <td>B01NBY4YQG</td>\n",
       "      <td>2017</td>\n",
       "      <td>2</td>\n",
       "      <td>2</td>\n",
       "      <td>23</td>\n",
       "      <td>6</td>\n",
       "      <td>4</td>\n",
       "      <td>396</td>\n",
       "      <td>...</td>\n",
       "      <td>0.0</td>\n",
       "      <td>EUR</td>\n",
       "      <td>24</td>\n",
       "      <td>48</td>\n",
       "      <td>NOW</td>\n",
       "      <td>1</td>\n",
       "      <td>IT</td>\n",
       "      <td>NaN</td>\n",
       "      <td>new</td>\n",
       "      <td>05e7f80e-02...</td>\n",
       "    </tr>\n",
       "  </tbody>\n",
       "</table>\n",
       "<p>10 rows × 28 columns</p>\n",
       "</div>"
      ],
      "text/plain": [
       "   IsBuyBoxWinner  MarketplaceId   ProductId  Year  Month  Day  Hour  Minute  \\\n",
       "0               1  APJ6JRA9NG5V4  B01JGPBFOO  2017      2    2    18      31   \n",
       "1              -1  APJ6JRA9NG5V4  B01JGPBFOO  2017      2    2    18      31   \n",
       "2               1  APJ6JRA9NG5V4  B01JGPBFOO  2017      2    2    18      13   \n",
       "3              -1  APJ6JRA9NG5V4  B01JGPBFOO  2017      2    2    18      13   \n",
       "4               1  APJ6JRA9NG5V4  B01NAWL24O  2017      2    2    23      29   \n",
       "5              -1  APJ6JRA9NG5V4  B01NAWL24O  2017      2    2    23      29   \n",
       "6               1  APJ6JRA9NG5V4  B01JGPGIJQ  2017      2    2    23       2   \n",
       "7              -1  APJ6JRA9NG5V4  B01JGPGIJQ  2017      2    2    23       2   \n",
       "8               1  APJ6JRA9NG5V4  B01NBY4YQG  2017      2    2    23       6   \n",
       "9              -1  APJ6JRA9NG5V4  B01NBY4YQG  2017      2    2    23       6   \n",
       "\n",
       "   Second  Milisecond       ...        ShippingPrice  ShippingCurrency  \\\n",
       "0      46         402       ...                  0.0             EUR     \n",
       "1      46         402       ...                  0.0             EUR     \n",
       "2      50         977       ...                  0.0             EUR     \n",
       "3      50         977       ...                  0.0             EUR     \n",
       "4      34         912       ...                  0.0             EUR     \n",
       "5      34         912       ...                  0.0             EUR     \n",
       "6       8         243       ...                  0.0             EUR     \n",
       "7       8         243       ...                  0.0             EUR     \n",
       "8       4         396       ...                  0.0             EUR     \n",
       "9       4         396       ...                  0.0             EUR     \n",
       "\n",
       "   ShippingTime_minHours  ShippingTime_maxHours ShippingTime_availtype  \\\n",
       "0              24                     48                    NOW          \n",
       "1              24                     48                    NOW          \n",
       "2              24                     48                    NOW          \n",
       "3              24                     48                    NOW          \n",
       "4              24                     48                    NOW          \n",
       "5              24                     48                    NOW          \n",
       "6              24                     48                    NOW          \n",
       "7              24                     48                    NOW          \n",
       "8              24                     48                    NOW          \n",
       "9              24                     48                    NOW          \n",
       "\n",
       "   ShipsDomestically  ShipsFromCountry  ShipsFromState  SubCondition  \\\n",
       "0               1                 IT               NaN           new   \n",
       "1               1                 IT               NaN           new   \n",
       "2               1                 IT               NaN           new   \n",
       "3               1                 IT               NaN           new   \n",
       "4               1                 IT               NaN           new   \n",
       "5               1                 IT               NaN           new   \n",
       "6               1                 IT               NaN           new   \n",
       "7               1                 IT               NaN           new   \n",
       "8               1                 IT               NaN           new   \n",
       "9               1                 IT               NaN           new   \n",
       "\n",
       "  CompetitionName  \n",
       "0  0095b1ed-b1...  \n",
       "1  0095b1ed-b1...  \n",
       "2  00b27eb6-4f...  \n",
       "3  00b27eb6-4f...  \n",
       "4  03d942d6-41...  \n",
       "5  03d942d6-41...  \n",
       "6  051ba696-d6...  \n",
       "7  051ba696-d6...  \n",
       "8  05e7f80e-02...  \n",
       "9  05e7f80e-02...  \n",
       "\n",
       "[10 rows x 28 columns]"
      ]
     },
     "metadata": {},
     "output_type": "display_data"
    }
   ],
   "source": [
    "\"\"\"\n",
    "================================\n",
    "    First 10 rows, all columns\n",
    "================================\n",
    "\"\"\"\n",
    "print(__doc__)\n",
    "from IPython.display import display\n",
    "pd.set_option('max_colwidth',15)\n",
    "display(df_ful.head(10))"
   ]
  },
  {
   "cell_type": "markdown",
   "metadata": {},
   "source": [
    "### <font color='darkblue'>Duplicated in rows, columns</font>"
   ]
  },
  {
   "cell_type": "code",
   "execution_count": 77,
   "metadata": {
    "ExecuteTime": {
     "end_time": "2017-05-13T13:48:01.628162Z",
     "start_time": "2017-05-13T13:47:37.286159Z"
    },
    "collapsed": false,
    "hide_input": true
   },
   "outputs": [
    {
     "name": "stdout",
     "output_type": "stream",
     "text": [
      "\n",
      "================================\n",
      "   Duplicated rows, columns\n",
      "================================\n",
      "\n",
      "Size of Raw file: 1,304,661\n",
      "Size of Clean file: 1,303,556\n",
      "Duplication: 1,105 samples\n"
     ]
    }
   ],
   "source": [
    "\"\"\"\n",
    "================================\n",
    "   Duplicated rows, columns\n",
    "================================\n",
    "\"\"\"\n",
    "print(__doc__)\n",
    "\n",
    "sizeold = df_ful.shape[0]\n",
    "# drop duplicated rows\n",
    "df_ful.drop_duplicates(inplace=True) # check and clean the duplication\n",
    "sizenew = df_ful.shape[0]\n",
    "no_duplicated = sizeold - sizenew\n",
    "df_ful.to_csv('./100k/full-clean.csv',sep = ',',index = False)\n",
    "print('Size of Raw file: ' + str('{:,}'.format(sizeold)))\n",
    "print('Size of Clean file: ' + str('{:,}'.format(sizenew)))\n",
    "print('Duplication: ' + str('{:,}'.format(no_duplicated)) + ' samples')\n",
    "\n",
    "# drop duplicated column\n",
    "df_ful = df_ful.drop(\"ListingCurrency\", 1) "
   ]
  },
  {
   "cell_type": "markdown",
   "metadata": {},
   "source": [
    "### <font color='darkblue'>Missing values per column</font>"
   ]
  },
  {
   "cell_type": "code",
   "execution_count": 78,
   "metadata": {
    "ExecuteTime": {
     "end_time": "2017-05-13T13:49:18.537497Z",
     "start_time": "2017-05-13T13:48:15.201198Z"
    },
    "collapsed": false,
    "hide_input": true
   },
   "outputs": [
    {
     "name": "stdout",
     "output_type": "stream",
     "text": [
      "\n",
      "================================\n",
      "   Missing values per column\n",
      "================================\n",
      "\n",
      "Total rows: 1,303,556\n",
      "------------------------------------------------\n",
      "('IsBuyBoxWinner', 0)            ('Milisecond', 0)                ('ShippingCurrency', 0)          \n",
      "('MarketplaceId', 0)             ('ConditionNotes', 0)            ('ShippingTime_minHours', 0)     \n",
      "('ProductId', 0)                 ('IsFeaturedMerchant', 0)        ('ShippingTime_maxHours', 0)     \n",
      "('Year', 0)                      ('IsFulfilledByAmazon', 0)       ('ShippingTime_availtype', 0)    \n",
      "('Month', 0)                     ('ListingPrice', 0)              ('ShipsDomestically', 0)         \n",
      "('Day', 0)                       ('SellerFeedbackRating', 0)      ('ShipsFromCountry', 275930)     \n",
      "('Hour', 0)                      ('SellerFeedbackCount', 0)       (' ShipsFromState', 1303018)     \n",
      "('Minute', 0)                    ('SellerId', 0)                  ('SubCondition', 0)              \n",
      "('Second', 0)                    ('ShippingPrice', 0)             ('CompetitionName', 0)           \n"
     ]
    }
   ],
   "source": [
    "\"\"\"\n",
    "================================\n",
    "   Missing values per column\n",
    "================================\n",
    "\"\"\"\n",
    "\n",
    "print(__doc__)\n",
    "#Create a new function: \n",
    "def num_missing(x):\n",
    "    return x.name, sum(x.isnull())\n",
    "\n",
    "#Applying per column:\n",
    "print(\"Total rows: \" + str('{:,}'.format(sizenew)))\n",
    "print(\"------------------------------------------------\")\n",
    "list_columns(df_ful.apply(num_missing),cols=3)"
   ]
  },
  {
   "cell_type": "code",
   "execution_count": 79,
   "metadata": {
    "ExecuteTime": {
     "end_time": "2017-05-13T13:49:38.116266Z",
     "start_time": "2017-05-13T13:49:37.291087Z"
    },
    "collapsed": false,
    "hide_input": true
   },
   "outputs": [
    {
     "name": "stdout",
     "output_type": "stream",
     "text": [
      "\n",
      "================================\n",
      "Drop the missing values columns\n",
      "================================\n",
      "\n",
      "IsBuyBoxWinner            Minute                    SellerFeedbackRating      ShippingTime_availtype    \n",
      "MarketplaceId             Second                    SellerFeedbackCount       ShipsDomestically         \n",
      "ProductId                 Milisecond                SellerId                  SubCondition              \n",
      "Year                      ConditionNotes            ShippingPrice             CompetitionName           \n",
      "Month                     IsFeaturedMerchant        ShippingCurrency                                    \n",
      "Day                       IsFulfilledByAmazon       ShippingTime_minHours                               \n",
      "Hour                      ListingPrice              ShippingTime_maxHours                               \n"
     ]
    }
   ],
   "source": [
    "\"\"\"\n",
    "================================\n",
    "Drop the missing values columns\n",
    "================================\n",
    "\"\"\"\n",
    "print(__doc__) \n",
    "df_ful = df_ful.drop(\"ShipsFromCountry\", 1) \n",
    "df_ful = df_ful.drop(\" ShipsFromState\", 1) \n",
    "list_columns(list(df_ful),cols=4)"
   ]
  },
  {
   "cell_type": "markdown",
   "metadata": {},
   "source": [
    "### <font color='darkblue'>Unique values for each feature</font>"
   ]
  },
  {
   "cell_type": "code",
   "execution_count": 82,
   "metadata": {
    "ExecuteTime": {
     "end_time": "2017-05-13T13:50:53.868678Z",
     "start_time": "2017-05-13T13:50:52.674097Z"
    },
    "collapsed": false,
    "hide_input": true
   },
   "outputs": [
    {
     "name": "stdout",
     "output_type": "stream",
     "text": [
      "\n",
      "================================\n",
      "Features and unique values\n",
      "================================\n",
      "\n",
      "List of numeric features:\n",
      "IsBuyBoxWinner           Minute                   IsFulfilledByAmazon      ShippingTime_minHours    \n",
      "Year                     Second                   ListingPrice             ShippingTime_maxHours    \n",
      "Month                    Milisecond               SellerFeedbackRating     ShipsDomestically        \n",
      "Day                      ConditionNotes           SellerFeedbackCount                               \n",
      "Hour                     IsFeaturedMerchant       ShippingPrice                                     \n",
      "---------------------\n",
      "List of category features:\n",
      "MarketplaceId             SellerId                  ShippingTime_availtype    CompetitionName           \n",
      "ProductId                 ShippingCurrency          SubCondition                                        \n",
      "\n",
      " \n",
      "---------------------------------------------\n",
      "Feature               : UniqueValues\n",
      "---------------------------------------------\n",
      "IsBuyBoxWinner        : 2\n",
      "Year                  : 2\n",
      "Month                 : 9\n",
      "Day                   : 31\n",
      "Hour                  : 24\n",
      "Minute                : 60\n",
      "Second                : 60\n",
      "Milisecond            : 1000\n",
      "ConditionNotes        : 2\n",
      "IsFeaturedMerchant    : 2\n",
      "IsFulfilledByAmazon   : 2\n",
      "ListingPrice          : 17379\n",
      "SellerFeedbackRating  : 51\n",
      "SellerFeedbackCount   : 8123\n",
      "ShippingPrice         : 528\n",
      "ShippingTime_minHours : 24\n",
      "ShippingTime_maxHours : 22\n",
      "ShipsDomestically     : 1\n",
      "MarketplaceId         : 7\n",
      "ProductId             : 2860\n",
      "SellerId              : 1061\n",
      "ShippingCurrency      : 4\n",
      "ShippingTime_availtype: 2\n",
      "SubCondition          : 5\n",
      "CompetitionName       : 112710\n"
     ]
    }
   ],
   "source": [
    "\"\"\"\n",
    "================================\n",
    "Features and unique values\n",
    "================================\n",
    "\"\"\"\n",
    "print(__doc__)\n",
    "# Check the unique values inside of features\n",
    "#Look at the numerical features only\n",
    "numeric_columns_full = df_ful.select_dtypes(['int64', 'float64']).columns\n",
    "print('List of numeric features:')\n",
    "list_columns(numeric_columns_full.values)\n",
    "#Look at the categorical features only\n",
    "print('---------------------')\n",
    "category_columns_full = df_ful.select_dtypes(['category', 'object']).columns\n",
    "print('List of category features:')\n",
    "list_columns(category_columns_full.values)\n",
    "print('\\n \\n---------------------------------------------')\n",
    "print(\"%-*s: %s\" % (22,'Feature','UniqueValues'))\n",
    "print('---------------------------------------------')\n",
    "for column in numeric_columns_full:\n",
    "    print(\"%-*s: %s\" % (22,str(column),str(len(df_ful[column].unique()))))\n",
    "for column in category_columns_full:\n",
    "    print(\"%-*s: %s\" % (22,str(column),str(len(df_ful[column].unique()))))"
   ]
  },
  {
   "cell_type": "markdown",
   "metadata": {},
   "source": [
    "### <font color='darkblue'>Drop the constant columns</font>"
   ]
  },
  {
   "cell_type": "code",
   "execution_count": 83,
   "metadata": {
    "ExecuteTime": {
     "end_time": "2017-05-13T13:51:03.515270Z",
     "start_time": "2017-05-13T13:51:03.227446Z"
    },
    "collapsed": false,
    "hide_input": true
   },
   "outputs": [
    {
     "name": "stdout",
     "output_type": "stream",
     "text": [
      "\n",
      "================================\n",
      "  Drop the constant columns\n",
      "================================\n",
      "\n",
      "IsBuyBoxWinner            Hour                      IsFulfilledByAmazon       ShippingCurrency          \n",
      "MarketplaceId             Minute                    ListingPrice              ShippingTime_minHours     \n",
      "ProductId                 Second                    SellerFeedbackRating      ShippingTime_maxHours     \n",
      "Year                      Milisecond                SellerFeedbackCount       ShippingTime_availtype    \n",
      "Month                     ConditionNotes            SellerId                  SubCondition              \n",
      "Day                       IsFeaturedMerchant        ShippingPrice             CompetitionName           \n"
     ]
    }
   ],
   "source": [
    "\"\"\"\n",
    "================================\n",
    "  Drop the constant columns\n",
    "================================\n",
    "\"\"\"\n",
    "print(__doc__) \n",
    "df_ful = df_ful.drop(\"ShipsDomestically\", 1) \n",
    "list_columns(list(df_ful))"
   ]
  },
  {
   "cell_type": "markdown",
   "metadata": {},
   "source": [
    "### <font color='darkblue'>Data quality report</font>"
   ]
  },
  {
   "cell_type": "code",
   "execution_count": 84,
   "metadata": {
    "ExecuteTime": {
     "end_time": "2017-05-13T13:51:14.312509Z",
     "start_time": "2017-05-13T13:51:12.297671Z"
    },
    "collapsed": false,
    "hide_input": true
   },
   "outputs": [
    {
     "name": "stdout",
     "output_type": "stream",
     "text": [
      "\n",
      "================================\n",
      "Features descriptive statistics\n",
      "================================\n",
      "\n",
      "List of numeric features:\n",
      "IsBuyBoxWinner           Minute                   IsFulfilledByAmazon      ShippingTime_minHours    \n",
      "Year                     Second                   ListingPrice             ShippingTime_maxHours    \n",
      "Month                    Milisecond               SellerFeedbackRating                              \n",
      "Day                      ConditionNotes           SellerFeedbackCount                               \n",
      "Hour                     IsFeaturedMerchant       ShippingPrice                                     \n",
      "\n",
      "\n",
      "---------------------  -----------  -----------  ------------  -------  ------  -------  -------  ------\n",
      "                             count         mean           std      min     25%      50%      75%     max\n",
      "---------------------  -----------  -----------  ------------  -------  ------  -------  -------  ------\n",
      "IsBuyBoxWinner         1.30356e+06    -0.82079       0.57123     -1       -1      -1       -1          1\n",
      "Year                   1.30356e+06  2016.15          0.356169  2016     2016    2016     2016       2017\n",
      "Month                  1.30356e+06     7.50567       3.1233       1        7       8       10         12\n",
      "Day                    1.30356e+06    15.0252        9.56529      1        6      14       24         31\n",
      "Hour                   1.30356e+06    11.2917        7.01031      0        5      11       17         23\n",
      "Minute                 1.30356e+06    29.8484       17.1897       0       15      29       44         59\n",
      "Second                 1.30356e+06    29.7756       16.9609       0       16      30       44         59\n",
      "Milisecond             1.30356e+06   499.272       288.836        0      250     498      750        999\n",
      "ConditionNotes         1.30356e+06    -0.486354      0.873762    -1       -1      -1        1          1\n",
      "IsFeaturedMerchant     1.30356e+06     0.933167      0.249732     0        1       1        1          1\n",
      "IsFulfilledByAmazon    1.30356e+06     0.180603      0.384689     0        0       0        0          1\n",
      "ListingPrice           1.30356e+06    22.9967      331.741        0.01     5.8     8.36    12.61   81436\n",
      "SellerFeedbackRating   1.30356e+06    89.3702       20.7102      -1       89      96       99        100\n",
      "SellerFeedbackCount    1.30356e+06  2970.76      11988.9         -1       28     162      827     136085\n",
      "ShippingPrice          1.30356e+06     4.25844     214.894        0        0       2.2      6.5   179996\n",
      "ShippingTime_minHours  1.30356e+06    36.8484       63.0675       0       24      24       24       1104\n",
      "ShippingTime_maxHours  1.30356e+06    59.7718       90.9456       0       48      48       48       1560\n",
      "---------------------  -----------  -----------  ------------  -------  ------  -------  -------  ------\n"
     ]
    }
   ],
   "source": [
    "\"\"\"\n",
    "================================\n",
    "Features descriptive statistics\n",
    "================================\n",
    "\"\"\"\n",
    "print(__doc__)\n",
    "#Prepare a table with descriptive statistics for all the continuous features.\n",
    "#Look at the numerical features only\n",
    "numeric_columns_full = df_ful.select_dtypes(['int64', 'float64']).columns\n",
    "print('List of numeric features:')\n",
    "list_columns(numeric_columns_full.values)\n",
    "\n",
    "print(\"\\n\\n---------------------  -----------  -----------  ------------  -------  ------  -------  -------  ------\")\n",
    "print(tabulate(df_ful[numeric_columns_full].describe().T,headers=\"keys\",tablefmt=\"simple\"))\n",
    "print(\"---------------------  -----------  -----------  ------------  -------  ------  -------  -------  ------\")"
   ]
  },
  {
   "cell_type": "markdown",
   "metadata": {},
   "source": [
    "#  <font color='darkblue'>Designing & Implementing Features</font>"
   ]
  },
  {
   "cell_type": "markdown",
   "metadata": {},
   "source": [
    "## <font color='darkblue'>The data's problems</font>\n",
    "\n",
    "The problems we discovered in the data provided (119K XML files) are described as follows:\n",
    "\n",
    "        1) Several XML files not in the same format to the other ones \n",
    "        (XMLFormat; discussed above as Problem1)\n",
    "        \n",
    "        2) More than one winner in one competition time (MultiWin)\n",
    "\n",
    "        3) No winner for some competitions (ZeroWin)\n",
    "\n",
    "        4) Same seller different offers in one competition (MultiSeller)\n",
    "\n",
    "        5) Small number of offers (less than 3) in some competitions (FewOffer)\n",
    "\n",
    "Below we first split the full CSV dataset according to each market, then analyse the distribution of problems 2-5 for each such dataset. We want to study the data characteristics, for each market.\n"
   ]
  },
  {
   "cell_type": "markdown",
   "metadata": {},
   "source": [
    "## <font color='darkblue'>Split data by Market ID</font>"
   ]
  },
  {
   "cell_type": "markdown",
   "metadata": {},
   "source": [
    "<font color='darkred'>We analyse for each market: </font>\n",
    "<div class=\"alert alert-block alert-warning\">\n",
    "<p>a. How many products are being sold? (to get a feel for market size)</p>\n",
    "<p>b. How many competitions are there? (to get a fell for dynamics of market)</p>\n",
    "<p>c. How many problems are present across products? (to check if problems come mostly from a few  products)</p> \n",
    "<p>d. How many problems are present across competitions? (to check types of problems and how many  competitions are affected)</p>\n",
    "<p>e. We bin the products according to number of competitions (to check how many products have many offers, or few offers).</p>\n",
    "<p>f. We check problem types for each type of bin (to see if intensive or little competition leads to particular problems).</p>\n",
    "</div>"
   ]
  },
  {
   "cell_type": "code",
   "execution_count": 152,
   "metadata": {
    "ExecuteTime": {
     "end_time": "2017-05-13T16:23:40.053962Z",
     "start_time": "2017-05-13T16:23:32.156629Z"
    },
    "collapsed": false,
    "hide_input": true
   },
   "outputs": [],
   "source": [
    "# path\n",
    "import os\n",
    "# Function to get list of filename in directory\n",
    "def get_filepaths(directory):\n",
    "    file_paths = []  # List which will store all of the full filepaths.\n",
    "\n",
    "    # Walk the tree.\n",
    "    for root, directories, files in os.walk(directory):\n",
    "        for filename in files:\n",
    "            # Join the two strings in order to form the full filepath.\n",
    "            filepath = os.path.join(root, filename)\n",
    "            file_paths.append(filepath)  # Add it to the list.\n",
    "\n",
    "    return file_paths  # Self-explanatory.\n",
    "data_path = u'./Market'\n",
    "path = get_filepaths(data_path)\n",
    "listname = []\n",
    "\n",
    "index = ['France','United Kingdom','Germany','Spain','India','Italy','US']\n",
    "dataframe = pd.DataFrame([],index=index, columns=['Note','#Product','#Competition',\\\n",
    "                                                  '#MultiWin\\n/#Competition', \\\n",
    "                                                  '#ZeroWin\\n/#Competition',\\\n",
    "                                                  '#MultiSeller\\n/#Competition',\\\n",
    "                                                  '#FewOffer\\n/#Competition',\\\n",
    "                                                  '#MultiWin\\n/#Product', \\\n",
    "                                                  '#ZeroWin\\n/#Product',\\\n",
    "                                                  '#MultiSeller\\n/#Product',\\\n",
    "                                                  '#FewOffer\\n/#Product'])\n",
    "dataframe.index.name = 'Markets'\n",
    "for f in path:\n",
    "    if f.endswith(\".csv\"):\n",
    "        name = (os.path.splitext(os.path.basename(f))[0])\n",
    "        exec(name + \"= pd.read_csv(f,error_bad_lines=False)\")\n",
    "        listname.append(name)\n",
    "dataframe[\"Note\"] = listname\n",
    "# product\n",
    "p1 = len(Market1_data[\"ProductId\"].unique())\n",
    "p2 = len(Market2_data[\"ProductId\"].unique())\n",
    "p3 = len(Market3_data[\"ProductId\"].unique())\n",
    "p4 = len(Market4_data[\"ProductId\"].unique())\n",
    "p5 = len(Market5_data[\"ProductId\"].unique())\n",
    "p6 = len(Market6_data[\"ProductId\"].unique())\n",
    "p7 = len(Market7_data[\"ProductId\"].unique())\n",
    "# competition\n",
    "c1 = len(Market1_data[\"CompetitionName\"].unique())\n",
    "c2 = len(Market2_data[\"CompetitionName\"].unique())\n",
    "c3 = len(Market3_data[\"CompetitionName\"].unique())\n",
    "c4 = len(Market4_data[\"CompetitionName\"].unique())\n",
    "c5 = len(Market5_data[\"CompetitionName\"].unique())\n",
    "c6 = len(Market6_data[\"CompetitionName\"].unique())\n",
    "c7 = len(Market7_data[\"CompetitionName\"].unique())\n",
    "dataframe[\"#Product\"] = [p1,p2,p3,p4,p5,p6,p7]\n",
    "dataframe[\"#Competition\"] = [c1,c2,c3,c4,c5,c6,c7]"
   ]
  },
  {
   "cell_type": "code",
   "execution_count": 153,
   "metadata": {
    "ExecuteTime": {
     "end_time": "2017-05-13T16:23:57.543487Z",
     "start_time": "2017-05-13T16:23:57.507337Z"
    },
    "collapsed": false,
    "hide_input": true
   },
   "outputs": [],
   "source": [
    "import sys\n",
    "def checkPrbl(df):\n",
    "        ## Code checking 4 problems\n",
    "    groups = df.groupby(['CompetitionName'])\n",
    "    i =0\n",
    "    l = len(groups)\n",
    "    ZeroWin =0 \n",
    "    MultiWin = 0\n",
    "    MultiSeller=0\n",
    "    FewOffer=0\n",
    "    for competition_name, group in (groups):\n",
    "        l1= len(group)\n",
    "        numberOffers = group['IsBuyBoxWinner'].count()\n",
    "        # b\n",
    "        tmpSum = group.IsBuyBoxWinner.sum()\n",
    "        if (abs(tmpSum) == int(numberOffers)):\n",
    "            ZeroWin += 1\n",
    "        # c\n",
    "        tmpSum = group.IsBuyBoxWinner.sum()\n",
    "        if (abs(tmpSum) < int(numberOffers) - 2):\n",
    "            MultiWin += 1\n",
    "        # d\n",
    "        group = group.drop(\"ListingPrice\", 1) \n",
    "        group = group.drop(\"ShippingPrice\", 1) \n",
    "        SellerId = group['SellerId']\n",
    "        group_duplicated = SellerId[group.duplicated() == True]\n",
    "        group_duplicated = group_duplicated.unique()\n",
    "        if len(group_duplicated) != 0:\n",
    "            MultiSeller += 1\n",
    "        # e\n",
    "        if(int(numberOffers) <= 3): # threshold is = 3\n",
    "            FewOffer += 1\n",
    "        i+=1\n",
    "#         sys.stdout.write(\"\\r{0}:{1}:{2}\".format(i,l,l1))\n",
    "#         sys.stdout.flush()\n",
    "    \n",
    "    return ([l,MultiWin,ZeroWin,MultiSeller,FewOffer])   "
   ]
  },
  {
   "cell_type": "code",
   "execution_count": 155,
   "metadata": {
    "ExecuteTime": {
     "end_time": "2017-05-13T16:39:03.136174Z",
     "start_time": "2017-05-13T16:31:58.741152Z"
    },
    "collapsed": false,
    "hide_input": true
   },
   "outputs": [],
   "source": [
    "## Market 1\n",
    "L1 =[]\n",
    "i=1\n",
    "groups = Market1_data.groupby(['ProductId'])\n",
    "l = len(groups)\n",
    "for competition_name, group in (groups):\n",
    "    t=checkPrbl(group)\n",
    "    sys.stdout.write(\"\\r Processing in product {0}/{1}\".format(i,l))\n",
    "    sys.stdout.flush()\n",
    "    L1.append(t)\n",
    "    i+=1\n",
    "L1 = np.reshape(L1,(l, 5))\n",
    "SS1 = sum(L1)\n",
    "S1 = sum(L1!=0)\n",
    "clear_output()"
   ]
  },
  {
   "cell_type": "code",
   "execution_count": 156,
   "metadata": {
    "ExecuteTime": {
     "end_time": "2017-05-13T16:39:07.586505Z",
     "start_time": "2017-05-13T16:39:03.146861Z"
    },
    "collapsed": false,
    "hide_input": true
   },
   "outputs": [],
   "source": [
    "## Market 2\n",
    "L2 =[]\n",
    "i=1\n",
    "groups = Market2_data.groupby(['ProductId'])\n",
    "l = len(groups)\n",
    "for competition_name, group in (groups):\n",
    "    t=checkPrbl(group)\n",
    "    sys.stdout.write(\"\\r Processing in product {0}/{1}\".format(i,l))\n",
    "    sys.stdout.flush()\n",
    "    L2.append(t)\n",
    "    i+=1\n",
    "L2 = np.reshape(L2,(l, 5))\n",
    "SS2 = sum(L2)\n",
    "S2 = sum(L2!=0)\n",
    "clear_output()"
   ]
  },
  {
   "cell_type": "code",
   "execution_count": 157,
   "metadata": {
    "ExecuteTime": {
     "end_time": "2017-05-13T16:39:12.387639Z",
     "start_time": "2017-05-13T16:39:07.588890Z"
    },
    "collapsed": false,
    "hide_input": true
   },
   "outputs": [],
   "source": [
    "## Market 3\n",
    "L3 =[]\n",
    "i=1\n",
    "groups = Market3_data.groupby(['ProductId'])\n",
    "l = len(groups)\n",
    "for competition_name, group in (groups):\n",
    "    t=checkPrbl(group)\n",
    "    sys.stdout.write(\"\\r Processing in product {0}/{1}\".format(i,l))\n",
    "    sys.stdout.flush()\n",
    "    L3.append(t)\n",
    "    i+=1\n",
    "L3 = np.reshape(L3,(l, 5))\n",
    "SS3 = sum(L3)\n",
    "S3 = sum(L3!=0)\n",
    "clear_output()"
   ]
  },
  {
   "cell_type": "code",
   "execution_count": 158,
   "metadata": {
    "ExecuteTime": {
     "end_time": "2017-05-13T16:39:18.827059Z",
     "start_time": "2017-05-13T16:39:12.390784Z"
    },
    "collapsed": false,
    "hide_input": true
   },
   "outputs": [],
   "source": [
    "## Market 4\n",
    "L4 =[]\n",
    "i=1\n",
    "groups = Market4_data.groupby(['ProductId'])\n",
    "l = len(groups)\n",
    "for competition_name, group in (groups):\n",
    "    t=checkPrbl(group)\n",
    "    sys.stdout.write(\"\\r Processing in product {0}/{1}\".format(i,l))\n",
    "    sys.stdout.flush()\n",
    "    L4.append(t)\n",
    "    i+=1\n",
    "L4 = np.reshape(L4,(l, 5))\n",
    "SS4 = sum(L4)\n",
    "S4 = sum(L4!=0)\n",
    "clear_output()"
   ]
  },
  {
   "cell_type": "code",
   "execution_count": 159,
   "metadata": {
    "ExecuteTime": {
     "end_time": "2017-05-13T16:39:21.914107Z",
     "start_time": "2017-05-13T16:39:18.829433Z"
    },
    "collapsed": false,
    "hide_input": true
   },
   "outputs": [],
   "source": [
    "## Market 5\n",
    "L5 =[]\n",
    "i=1\n",
    "groups = Market5_data.groupby(['ProductId'])\n",
    "l = len(groups)\n",
    "for competition_name, group in (groups):\n",
    "    t=checkPrbl(group)\n",
    "    sys.stdout.write(\"\\r Processing in product {0}/{1}\".format(i,l))\n",
    "    sys.stdout.flush()\n",
    "    L5.append(t)\n",
    "    i+=1\n",
    "L5 = np.reshape(L5,(l, 5))\n",
    "SS5 = sum(L5)\n",
    "S5 = sum(L5!=0)\n",
    "clear_output()"
   ]
  },
  {
   "cell_type": "code",
   "execution_count": 160,
   "metadata": {
    "ExecuteTime": {
     "end_time": "2017-05-13T16:41:06.419449Z",
     "start_time": "2017-05-13T16:39:21.916406Z"
    },
    "collapsed": false,
    "hide_input": true
   },
   "outputs": [],
   "source": [
    "## Market 6\n",
    "L6 =[]\n",
    "i=1\n",
    "groups = Market6_data.groupby(['ProductId'])\n",
    "l = len(groups)\n",
    "for competition_name, group in (groups):\n",
    "    t=checkPrbl(group)\n",
    "    sys.stdout.write(\"\\r Processing in product {0}/{1}\".format(i,l))\n",
    "    sys.stdout.flush()\n",
    "    L6.append(t)\n",
    "    i+=1\n",
    "L6 = np.reshape(L6,(l, 5))\n",
    "SS6= sum(L6)\n",
    "S6 = sum(L6!=0)\n",
    "clear_output()"
   ]
  },
  {
   "cell_type": "code",
   "execution_count": 161,
   "metadata": {
    "ExecuteTime": {
     "end_time": "2017-05-13T16:42:31.770687Z",
     "start_time": "2017-05-13T16:41:06.422288Z"
    },
    "collapsed": false,
    "hide_input": true
   },
   "outputs": [],
   "source": [
    "## Market 7\n",
    "L7 =[]\n",
    "i=1\n",
    "groups = Market7_data.groupby(['ProductId'])\n",
    "l = len(groups)\n",
    "for competition_name, group in (groups):\n",
    "    t=checkPrbl(group)\n",
    "    sys.stdout.write(\"\\r Processing in product {0}/{1}\".format(i,l))\n",
    "    sys.stdout.flush()\n",
    "    L7.append(t)\n",
    "    i+=1\n",
    "L7 = np.reshape(L7,(l, 5))\n",
    "SS7 = sum(L7)\n",
    "S7 = sum(L7!=0)\n",
    "clear_output()"
   ]
  },
  {
   "cell_type": "code",
   "execution_count": 162,
   "metadata": {
    "ExecuteTime": {
     "end_time": "2017-05-13T16:42:31.776737Z",
     "start_time": "2017-05-13T16:42:31.773009Z"
    },
    "collapsed": false,
    "hide_input": true
   },
   "outputs": [],
   "source": [
    "A1 = np.reshape([SS1,SS2,SS3,SS4,SS5,SS6,SS7],(7,5))"
   ]
  },
  {
   "cell_type": "code",
   "execution_count": 163,
   "metadata": {
    "ExecuteTime": {
     "end_time": "2017-05-13T16:42:31.783518Z",
     "start_time": "2017-05-13T16:42:31.779117Z"
    },
    "collapsed": false,
    "hide_input": true
   },
   "outputs": [],
   "source": [
    "A2 = np.reshape([S1,S2,S3,S4,S5,S6,S7],(7,5))"
   ]
  },
  {
   "cell_type": "markdown",
   "metadata": {},
   "source": [
    "## <font color='darkblue'>Products and problems per market</font>\n",
    "We observe that France, Italy and US are larger markets than the other (wrt products sold).\n",
    "\n",
    "Regarding problems identified across products:\n",
    "\n",
    "**Multiwin:** Only France and Italy have this problem. France has 97 (of 460) products with at least one competition with more than one winner. Italy has 57/1349 products with this problem.\n",
    "\n",
    "**Zerowin:**  All markets have products with at least one competition without a winner.\n",
    "\n",
    "**Multiseller:** France and Italy have a more significant seller cheating problem. For Frace 35/460 products have at least one competition whith same seller placing different offers in the same competition. \n",
    "\n",
    "**FewOffers:** Almost all markets have at least 50% products with few offers, and most markets have close to 100% products with few offers."
   ]
  },
  {
   "cell_type": "code",
   "execution_count": 164,
   "metadata": {
    "ExecuteTime": {
     "end_time": "2017-05-13T16:42:31.793289Z",
     "start_time": "2017-05-13T16:42:31.786463Z"
    },
    "collapsed": false,
    "hide_input": true
   },
   "outputs": [],
   "source": [
    "## Add into dataframe\n",
    "dataframe[\"#MultiWin\\n/#Competition\"] = A1[:,1]\n",
    "dataframe[\"#ZeroWin\\n/#Competition\"] = A1[:,2]\n",
    "dataframe[\"#MultiSeller\\n/#Competition\"] = A1[:,3]\n",
    "dataframe[\"#FewOffer\\n/#Competition\"] = A1[:,4]"
   ]
  },
  {
   "cell_type": "code",
   "execution_count": 165,
   "metadata": {
    "ExecuteTime": {
     "end_time": "2017-05-13T16:42:31.802042Z",
     "start_time": "2017-05-13T16:42:31.795872Z"
    },
    "collapsed": false,
    "hide_input": true
   },
   "outputs": [],
   "source": [
    "## Add into dataframe\n",
    "dataframe[\"#MultiWin\\n/#Product\"] = A2[:,1]\n",
    "dataframe[\"#ZeroWin\\n/#Product\"] = A2[:,2]\n",
    "dataframe[\"#MultiSeller\\n/#Product\"] = A2[:,3]\n",
    "dataframe[\"#FewOffer\\n/#Product\"] = A2[:,4]"
   ]
  },
  {
   "cell_type": "code",
   "execution_count": 166,
   "metadata": {
    "ExecuteTime": {
     "end_time": "2017-05-13T16:42:31.815536Z",
     "start_time": "2017-05-13T16:42:31.804539Z"
    },
    "collapsed": false,
    "hide_input": true
   },
   "outputs": [
    {
     "name": "stdout",
     "output_type": "stream",
     "text": [
      "\n",
      "================================\n",
      "Prbs per product for 7 markets\n",
      "================================\n",
      "\n",
      "Markets         Note            #Product    #MultiWin    #ZeroWin    #MultiSeller    #FewOffer\n",
      "--------------  ------------  ----------  -----------  ----------  --------------  -----------\n",
      "France          Market1_data         460           97         117              35          202\n",
      "United Kingdom  Market2_data         117            0          91               0          117\n",
      "Germany         Market3_data         130            0         111               1          130\n",
      "Spain           Market4_data         163            0         129               2          162\n",
      "India           Market5_data         134            0         111               4          134\n",
      "Italy           Market6_data        1349           57         209              65          785\n",
      "US              Market7_data         945            0         115               2          936\n"
     ]
    }
   ],
   "source": [
    "\"\"\"\n",
    "================================\n",
    "Prbs per product for 7 markets\n",
    "================================\n",
    "\"\"\"\n",
    "print(__doc__)\n",
    "## split into dataframe by products\n",
    "dataframe_prod = dataframe.ix[:,['Note','#Product','#MultiWin\\n/#Product','#ZeroWin\\n/#Product'\\\n",
    "                                 ,'#MultiSeller\\n/#Product','#FewOffer\\n/#Product']]\n",
    "dataframe_prod.columns=['Note','#Product','#MultiWin','#ZeroWin','#MultiSeller','#FewOffer']\n",
    "print(tabulate(dataframe_prod,headers='keys', tablefmt='simple'))"
   ]
  },
  {
   "cell_type": "markdown",
   "metadata": {},
   "source": [
    "## <font color='darkblue'>Competitions and problems per market</font>\n",
    "\n",
    "We observe that France is a very dynamic market, followed by Italy and the US.\n",
    "\n",
    "Regarding problems identified across competitions:\n",
    "\n",
    "**Multiwin:** France and Italy have this problem. For France almost 10% of all competitions have more than one winner.\n",
    "\n",
    "**Zerowin:**  All markets have competitions without a winner. This problem is significant, it occurs in more than 50% of competitions for some markets (e.g., UK). This implies that simply throwing out these competitions will lead to significant data loss.\n",
    "\n",
    "**Multiseller:** France and Italy have a fairly significant seller cheating problem. For France, 2% (1706/79470) of all competitions have the same seller placing different offers in the same competition. \n",
    "\n",
    "**FewOffers:** Almost all markets have at least 50% products with few offers, and most markets have close to 100% products with few offers."
   ]
  },
  {
   "cell_type": "code",
   "execution_count": 167,
   "metadata": {
    "ExecuteTime": {
     "end_time": "2017-05-13T16:42:31.828089Z",
     "start_time": "2017-05-13T16:42:31.817970Z"
    },
    "collapsed": false
   },
   "outputs": [
    {
     "name": "stdout",
     "output_type": "stream",
     "text": [
      "\n",
      "==================================\n",
      "Prbs per competition for 7 markets\n",
      "==================================\n",
      "\n",
      "Markets         Note            #Competition    #MultiWin    #ZeroWin    #MultiSeller    #FewOffer\n",
      "--------------  ------------  --------------  -----------  ----------  --------------  -----------\n",
      "France          Market1_data           79470         5798        2523            1706         6392\n",
      "United Kingdom  Market2_data             718            0         359               0          610\n",
      "Germany         Market3_data             723            0         188               1          699\n",
      "Spain           Market4_data             992            0         410              37          894\n",
      "India           Market5_data             445            0         222              10          442\n",
      "Italy           Market6_data           16537          757         653             345         6647\n",
      "US              Market7_data           13824            0         279               5        12736\n"
     ]
    }
   ],
   "source": [
    "\"\"\"\n",
    "==================================\n",
    "Prbs per competition for 7 markets\n",
    "==================================\n",
    "\"\"\"\n",
    "print(__doc__)\n",
    "## split into dataframe by competitions\n",
    "dataframe_comp = dataframe.ix[:,['Note','#Competition','#MultiWin\\n/#Competition',\\\n",
    "                                 '#ZeroWin\\n/#Competition','#MultiSeller\\n/#Competition',\\\n",
    "                                 '#FewOffer\\n/#Competition']]\n",
    "dataframe_comp.columns=['Note','#Competition','#MultiWin','#ZeroWin','#MultiSeller',\\\n",
    "                        '#FewOffer']\n",
    "print(tabulate(dataframe_comp,headers='keys', tablefmt='simple'))"
   ]
  },
  {
   "cell_type": "code",
   "execution_count": 168,
   "metadata": {
    "ExecuteTime": {
     "end_time": "2017-05-13T16:42:31.836839Z",
     "start_time": "2017-05-13T16:42:31.830485Z"
    },
    "collapsed": false
   },
   "outputs": [],
   "source": [
    "## Save file\n",
    "dataframe_prod.to_csv(\"./Prb/Pbl_market_product.csv\",sep=',',encoding='utf-8')\n",
    "dataframe_comp.to_csv(\"./Prb/Pbl_market_competition.csv\",sep=',',encoding='utf-8')"
   ]
  },
  {
   "cell_type": "code",
   "execution_count": 169,
   "metadata": {
    "ExecuteTime": {
     "end_time": "2017-05-13T16:42:31.850811Z",
     "start_time": "2017-05-13T16:42:31.840052Z"
    },
    "collapsed": false
   },
   "outputs": [],
   "source": [
    "np.save(\"./Prb/mk1_pd_sum\",L1)\n",
    "np.save(\"./Prb/mk2_pd_sum\",L2)\n",
    "np.save(\"./Prb/mk3_pd_sum\",L3)\n",
    "np.save(\"./Prb/mk4_pd_sum\",L4)\n",
    "np.save(\"./Prb/mk5_pd_sum\",L5)\n",
    "np.save(\"./Prb/mk6_pd_sum\",L6)\n",
    "np.save(\"./Prb/mk7_pd_sum\",L7)\n",
    "## can be loaded as: L1 = np.load(\"./Prb/mk1_pd_sum.npy\")"
   ]
  },
  {
   "cell_type": "markdown",
   "metadata": {},
   "source": [
    "## <font color='darkblue'>Binning products by number of competitions</font>\n",
    "We bin products based on the number of competitions they have to study groups of products with little or intensive competition.\n",
    "\n",
    "We use 4 bins for now:\n",
    "\n",
    "[0-5] Products that have up to 5 competitions\n",
    "\n",
    "[5-10] Products that have 6 to 10 competitions\n",
    "\n",
    "[10-20] Products that have 11 to 20 competitions\n",
    "\n",
    "[ > 20] Products that more than 20 competitions\n"
   ]
  },
  {
   "cell_type": "code",
   "execution_count": 170,
   "metadata": {
    "ExecuteTime": {
     "end_time": "2017-05-13T16:42:31.969560Z",
     "start_time": "2017-05-13T16:42:31.852920Z"
    },
    "collapsed": false
   },
   "outputs": [],
   "source": [
    "df_1 = Market1_data.ix[:,['IsBuyBoxWinner','MarketplaceId','ProductId','CompetitionName','SellerId',\\\n",
    "                         'ListingPrice','ShippingPrice']]\n",
    "df_2 = Market2_data.ix[:,['IsBuyBoxWinner','MarketplaceId','ProductId','CompetitionName','SellerId',\\\n",
    "                         'ListingPrice','ShippingPrice']]\n",
    "df_3 = Market3_data.ix[:,['IsBuyBoxWinner','MarketplaceId','ProductId','CompetitionName','SellerId',\\\n",
    "                         'ListingPrice','ShippingPrice']]\n",
    "df_4 = Market4_data.ix[:,['IsBuyBoxWinner','MarketplaceId','ProductId','CompetitionName','SellerId',\\\n",
    "                         'ListingPrice','ShippingPrice']]\n",
    "df_5 = Market5_data.ix[:,['IsBuyBoxWinner','MarketplaceId','ProductId','CompetitionName','SellerId',\\\n",
    "                         'ListingPrice','ShippingPrice']]\n",
    "df_6 = Market6_data.ix[:,['IsBuyBoxWinner','MarketplaceId','ProductId','CompetitionName','SellerId',\\\n",
    "                         'ListingPrice','ShippingPrice']]\n",
    "df_7 = Market7_data.ix[:,['IsBuyBoxWinner','MarketplaceId','ProductId','CompetitionName','SellerId',\\\n",
    "                         'ListingPrice','ShippingPrice']]"
   ]
  },
  {
   "cell_type": "code",
   "execution_count": 171,
   "metadata": {
    "ExecuteTime": {
     "end_time": "2017-05-13T16:42:33.418927Z",
     "start_time": "2017-05-13T16:42:31.972236Z"
    },
    "collapsed": false
   },
   "outputs": [],
   "source": [
    "def checkbin(df):\n",
    "    groups=df.groupby('ProductId')\n",
    "    bin1=0\n",
    "    bin2=0\n",
    "    bin3=0\n",
    "    bin4=0\n",
    "    for name,group in groups:\n",
    "        k = len(group['CompetitionName'].unique())\n",
    "        if(k<=5):\n",
    "            bin1+=1\n",
    "        if((k <= 10)&(k >5)):\n",
    "            bin2+=1\n",
    "        if((k <= 20)&(k >10)):\n",
    "            bin3+=1\n",
    "        if(k>20):\n",
    "            bin4+=1\n",
    "    return [bin1,bin2,bin3,bin4]\n",
    "\n",
    "arr_checkbin_ = np.reshape([(checkbin(df_1)),(checkbin(df_2)),(checkbin(df_3)),(checkbin(df_4)),(checkbin(df_5)),\\\n",
    " (checkbin(df_6)),(checkbin(df_7))],(7,4))"
   ]
  },
  {
   "cell_type": "code",
   "execution_count": 172,
   "metadata": {
    "ExecuteTime": {
     "end_time": "2017-05-13T16:42:33.435437Z",
     "start_time": "2017-05-13T16:42:33.421200Z"
    },
    "collapsed": false
   },
   "outputs": [
    {
     "name": "stdout",
     "output_type": "stream",
     "text": [
      "\n",
      "========================================\n",
      "Counting products per bin for 7 markets\n",
      "========================================\n",
      "\n",
      "Markets      #Product    [0-5]    [5-10]    [10-20]    >20\n",
      "---------  ----------  -------  --------  ---------  -----\n",
      "France            460      151        53         41    215\n",
      "UK                117      105         2          2      8\n",
      "Germany           130      111        11          2      6\n",
      "Spain             163      137        14          4      8\n",
      "India             134      126         6          1      1\n",
      "Italy            1349      962       160         91    136\n",
      "US                945      409       189        220    127\n"
     ]
    }
   ],
   "source": [
    "\"\"\"\n",
    "========================================\n",
    "Counting products per bin for 7 markets\n",
    "========================================\n",
    "\"\"\"\n",
    "print(__doc__)\n",
    "index = ['France','UK','Germany','Spain','India','Italy','US']\n",
    "df_bin = pd.DataFrame([],index=index, columns=['#Product','[0-5]','[5-10]','[10-20]', '>20'])\n",
    "df_bin.index.name = 'Markets'\n",
    "df_bin[\"#Product\"] = [p1,p2,p3,p4,p5,p6,p7]\n",
    "df_bin[\"[0-5]\"]= arr_checkbin_[:,0]\n",
    "df_bin[\"[5-10]\"]= arr_checkbin_[:,1]\n",
    "df_bin[\"[10-20]\"]= arr_checkbin_[:,2]\n",
    "df_bin[\">20\"]= arr_checkbin_[:,3]\n",
    "print(tabulate(df_bin,headers='keys', tablefmt='simple'))"
   ]
  },
  {
   "cell_type": "markdown",
   "metadata": {},
   "source": [
    "In the above table, for the France as an example, there are 460 products in total, while the amount of products in each bin are [151, 53, 41, 215] respectively. Also from that table, we can see the distribution of products per bins for all markets is highly placed in the bin [0-5]. It means that in those markets there are many products which have less than 5 competitions over the 9 months period covered by our dataset."
   ]
  },
  {
   "cell_type": "markdown",
   "metadata": {},
   "source": [
    "## <font color='darkblue'>Problems per bin</font>"
   ]
  },
  {
   "cell_type": "code",
   "execution_count": 173,
   "metadata": {
    "ExecuteTime": {
     "end_time": "2017-05-13T16:42:33.454288Z",
     "start_time": "2017-05-13T16:42:33.437580Z"
    },
    "collapsed": false,
    "hide_input": true
   },
   "outputs": [],
   "source": [
    "## function to get data for bins\n",
    "def getbins(df):\n",
    "    groups = df.groupby(['ProductId'])\n",
    "    bin1=pd.DataFrame([])\n",
    "    bin2=pd.DataFrame([])\n",
    "    bin3=pd.DataFrame([])\n",
    "    bin4=pd.DataFrame([])\n",
    "    l=len(groups)\n",
    "    i=0\n",
    "    for name,group in groups:\n",
    "        k = len(group['CompetitionName'].unique())\n",
    "        if(k<=5):\n",
    "            bin1 = bin1.append(group,ignore_index=True)\n",
    "        if((k <= 10)&(k >5)):\n",
    "            bin2 = bin2.append(group,ignore_index=True)\n",
    "        if((k <= 20)&(k >10)):\n",
    "            bin3= bin3.append(group,ignore_index=True)\n",
    "        if(k>20):\n",
    "            bin4=bin4.append(group,ignore_index=True)\n",
    "        i+=1\n",
    "        print(\"Processing {:2.1%}\".format(i/l), end=\"\\r\")\n",
    "    print(\"\\n Done!\")\n",
    "    return [bin1,bin2,bin3,bin4]"
   ]
  },
  {
   "cell_type": "code",
   "execution_count": 203,
   "metadata": {
    "ExecuteTime": {
     "end_time": "2017-05-13T17:00:05.999190Z",
     "start_time": "2017-05-13T16:59:31.525552Z"
    },
    "collapsed": false
   },
   "outputs": [],
   "source": [
    "[mk1_bin1,mk1_bin2,mk1_bin3,mk1_bin4] = getbins(df_1)\n",
    "[mk2_bin1,mk2_bin2,mk2_bin3,mk2_bin4] = getbins(df_2)\n",
    "[mk3_bin1,mk3_bin2,mk3_bin3,mk3_bin4] = getbins(df_3)\n",
    "[mk4_bin1,mk4_bin2,mk4_bin3,mk4_bin4] = getbins(df_4)\n",
    "[mk5_bin1,mk5_bin2,mk5_bin3,mk5_bin4] = getbins(df_5)\n",
    "[mk6_bin1,mk6_bin2,mk6_bin3,mk6_bin4] = getbins(df_6)\n",
    "[mk7_bin1,mk7_bin2,mk7_bin3,mk7_bin4] = getbins(df_7)\n",
    "clear_output()"
   ]
  },
  {
   "cell_type": "markdown",
   "metadata": {},
   "source": [
    "## <font color='darkblue'>Market 1 : France</font>"
   ]
  },
  {
   "cell_type": "code",
   "execution_count": 175,
   "metadata": {
    "ExecuteTime": {
     "end_time": "2017-05-13T16:47:06.253871Z",
     "start_time": "2017-05-13T16:43:05.432747Z"
    },
    "collapsed": false,
    "hide_input": false
   },
   "outputs": [],
   "source": [
    "## Market 1\n",
    "\n",
    "## Bin1\n",
    "B1L1 =[]\n",
    "i=1\n",
    "groups = mk1_bin1.groupby(['ProductId'])\n",
    "l = len(groups)\n",
    "for competition_name, group in (groups):\n",
    "    t=checkPrbl(group)\n",
    "    sys.stdout.write(\"\\r Processing in product {0}/{1}\".format(i,l))\n",
    "    sys.stdout.flush()\n",
    "    B1L1.append(t)\n",
    "    i+=1\n",
    "print(\"\\n Done!\")\n",
    "B1L1 = np.reshape(B1L1,(l, 5))\n",
    "B1SS1 = sum(B1L1)\n",
    "B1S1 = sum(B1L1!=0)\n",
    "\n",
    "## Bin2\n",
    "B2L1 =[]\n",
    "i=1\n",
    "groups = mk1_bin2.groupby(['ProductId'])\n",
    "l = len(groups)\n",
    "for competition_name, group in (groups):\n",
    "    t=checkPrbl(group)\n",
    "    sys.stdout.write(\"\\r Processing in product {0}/{1}\".format(i,l))\n",
    "    sys.stdout.flush()\n",
    "    B2L1.append(t)\n",
    "    i+=1\n",
    "print(\"\\n Done!\")\n",
    "B2L1 = np.reshape(B2L1,(l, 5))\n",
    "B2SS1 = sum(B2L1)\n",
    "B2S1 = sum(B2L1!=0)\n",
    "\n",
    "## Bin3\n",
    "B3L1 =[]\n",
    "i=1\n",
    "groups = mk1_bin3.groupby(['ProductId'])\n",
    "l = len(groups)\n",
    "for competition_name, group in (groups):\n",
    "    t=checkPrbl(group)\n",
    "    sys.stdout.write(\"\\r Processing in product {0}/{1}\".format(i,l))\n",
    "    sys.stdout.flush()\n",
    "    B3L1.append(t)\n",
    "    i+=1\n",
    "print(\"\\n Done!\")\n",
    "B3L1 = np.reshape(B3L1,(l, 5))\n",
    "B3SS1 = sum(B3L1)\n",
    "B3S1 = sum(B3L1!=0)\n",
    "\n",
    "## Bin4\n",
    "B4L1 =[]\n",
    "i=1\n",
    "groups = mk1_bin4.groupby(['ProductId'])\n",
    "l = len(groups)\n",
    "for competition_name, group in (groups):\n",
    "    t=checkPrbl(group)\n",
    "    sys.stdout.write(\"\\r Processing in product {0}/{1}\".format(i,l))\n",
    "    sys.stdout.flush()\n",
    "    B4L1.append(t)\n",
    "    i+=1\n",
    "print(\"\\n Done!\")\n",
    "B4L1 = np.reshape(B4L1,(l, 5))\n",
    "B4SS1 = sum(B4L1)\n",
    "B4S1 = sum(B4L1!=0)\n",
    "clear_output()"
   ]
  },
  {
   "cell_type": "code",
   "execution_count": 176,
   "metadata": {
    "ExecuteTime": {
     "end_time": "2017-05-13T16:47:06.259902Z",
     "start_time": "2017-05-13T16:47:06.255797Z"
    },
    "collapsed": false
   },
   "outputs": [],
   "source": [
    "C1A1 = np.reshape([B1SS1,B2SS1,B3SS1,B4SS1],(4,5))\n",
    "C2A1 = np.reshape([B1S1,B2S1,B3S1,B4S1],(4,5))"
   ]
  },
  {
   "cell_type": "code",
   "execution_count": 177,
   "metadata": {
    "ExecuteTime": {
     "end_time": "2017-05-13T16:47:06.401637Z",
     "start_time": "2017-05-13T16:47:06.262624Z"
    },
    "collapsed": false
   },
   "outputs": [
    {
     "name": "stdout",
     "output_type": "stream",
     "text": [
      "\n",
      "==============================================================\n",
      "Counting products having problems per bin for market 1: France\n",
      "==============================================================\n",
      "\n",
      "Bins       #Product    #MultiWin    #ZeroWin    #MultiSeller    #FewOffer\n",
      "-------  ----------  -----------  ----------  --------------  -----------\n",
      "[0-5]           151           11          52              21           98\n",
      "[5-10]           53            2          17               8           34\n",
      "[10-20]          41            3          13               9           21\n",
      ">20             215           81          35              72           49\n"
     ]
    }
   ],
   "source": [
    "\"\"\"\n",
    "==============================================================\n",
    "Counting products having problems per bin for market 1: France\n",
    "==============================================================\n",
    "\"\"\"\n",
    "print(__doc__)\n",
    "## insert to table\n",
    "##  market 1: prbs per product\n",
    "index = ['[0-5]','[5-10]','[10-20]', '>20']\n",
    "df_mk1_prd_bin = pd.DataFrame([],index=index, columns=['#Product','#MultiWin','#ZeroWin',\\\n",
    "                                                   '#MultiSeller','#FewOffer',])\n",
    "df_mk1_prd_bin.index.name = 'Bins'\n",
    "df_mk1_prd_bin[\"#Product\"] = ([len(mk1_bin1.groupby(['ProductId'])),len(mk1_bin2.groupby(['ProductId']))\\\n",
    "                         ,len(mk1_bin3.groupby(['ProductId'])),len(mk1_bin4.groupby(['ProductId']))])\n",
    "df_mk1_prd_bin[\"#MultiWin\"] = C2A1[:,1]\n",
    "df_mk1_prd_bin[\"#ZeroWin\"] = C2A1[:,2]\n",
    "df_mk1_prd_bin[\"#MultiSeller\"] = C2A1[:,3]\n",
    "df_mk1_prd_bin[\"#FewOffer\"] = C2A1[:,4]\n",
    "print(tabulate(df_mk1_prd_bin,headers='keys', tablefmt='simple'))\n"
   ]
  },
  {
   "cell_type": "code",
   "execution_count": 178,
   "metadata": {
    "ExecuteTime": {
     "end_time": "2017-05-13T16:47:06.425315Z",
     "start_time": "2017-05-13T16:47:06.403640Z"
    },
    "collapsed": false
   },
   "outputs": [
    {
     "name": "stdout",
     "output_type": "stream",
     "text": [
      "\n",
      "================================================================\n",
      "Counting competition having problems per bin for market 1: France\n",
      "================================================================\n",
      "\n",
      "Bins       #Competitions    #MultiWin    #ZeroWin    #MultiSeller    #FewOffer\n",
      "-------  ---------------  -----------  ----------  --------------  -----------\n",
      "[0-5]                278           18          74              30          181\n",
      "[5-10]               412           10          38              46          236\n",
      "[10-20]              593            5          53             109          265\n",
      ">20                78187         5765        2358           11016         5710\n"
     ]
    }
   ],
   "source": [
    "\"\"\"\n",
    "================================================================\n",
    "Counting competition having problems per bin for market 1: France\n",
    "================================================================\n",
    "\"\"\"\n",
    "print(__doc__)\n",
    "##  market 1: prbs per competition\n",
    "df_mk1_comp_bin = pd.DataFrame([],index=index, columns=['#Competitions','#MultiWin','#ZeroWin',\\\n",
    "                                                   '#MultiSeller','#FewOffer',])\n",
    "df_mk1_comp_bin.index.name = 'Bins'\n",
    "df_mk1_comp_bin[\"#Competitions\"] = C1A1[:,0]\n",
    "df_mk1_comp_bin[\"#MultiWin\"] = C1A1[:,1]\n",
    "df_mk1_comp_bin[\"#ZeroWin\"] = C1A1[:,2]\n",
    "df_mk1_comp_bin[\"#MultiSeller\"] = C1A1[:,3]\n",
    "df_mk1_comp_bin[\"#FewOffer\"] = C1A1[:,4]\n",
    "print(tabulate(df_mk1_comp_bin,headers='keys', tablefmt='simple'))"
   ]
  },
  {
   "cell_type": "markdown",
   "metadata": {},
   "source": [
    "## <font color='darkblue'>Market 2 : UK</font>"
   ]
  },
  {
   "cell_type": "code",
   "execution_count": 179,
   "metadata": {
    "ExecuteTime": {
     "end_time": "2017-05-13T16:47:09.433813Z",
     "start_time": "2017-05-13T16:47:06.430243Z"
    },
    "collapsed": false
   },
   "outputs": [],
   "source": [
    "## Market 2\n",
    "\n",
    "## Bin1\n",
    "B1L2 =[]\n",
    "i=1\n",
    "groups = mk2_bin1.groupby(['ProductId'])\n",
    "l = len(groups)\n",
    "for competition_name, group in (groups):\n",
    "    t=checkPrbl(group)\n",
    "    sys.stdout.write(\"\\r Processing in product {0}/{1}\".format(i,l))\n",
    "    sys.stdout.flush()\n",
    "    B1L2.append(t)\n",
    "    i+=1\n",
    "print(\"\\n Done!\")\n",
    "B1L2 = np.reshape(B1L2,(l, 5))\n",
    "B1SS2 = sum(B1L2)\n",
    "B1S2 = sum(B1L2!=0)\n",
    "\n",
    "## Bin2\n",
    "B2L2 =[]\n",
    "i=1\n",
    "groups = mk2_bin2.groupby(['ProductId'])\n",
    "l = len(groups)\n",
    "for competition_name, group in (groups):\n",
    "    t=checkPrbl(group)\n",
    "    sys.stdout.write(\"\\r Processing in product {0}/{1}\".format(i,l))\n",
    "    sys.stdout.flush()\n",
    "    B2L2.append(t)\n",
    "    i+=1\n",
    "print(\"\\n Done!\")\n",
    "B2L2 = np.reshape(B2L2,(l, 5))\n",
    "B2SS2 = sum(B2L2)\n",
    "B2S2 = sum(B2L2!=0)\n",
    "\n",
    "## Bin3\n",
    "B3L2 =[]\n",
    "i=1\n",
    "groups = mk2_bin3.groupby(['ProductId'])\n",
    "l = len(groups)\n",
    "for competition_name, group in (groups):\n",
    "    t=checkPrbl(group)\n",
    "    sys.stdout.write(\"\\r Processing in product {0}/{1}\".format(i,l))\n",
    "    sys.stdout.flush()\n",
    "    B3L2.append(t)\n",
    "    i+=1\n",
    "print(\"\\n Done!\")\n",
    "B3L2 = np.reshape(B3L2,(l, 5))\n",
    "B3SS2 = sum(B3L2)\n",
    "B3S2 = sum(B3L2!=0)\n",
    "\n",
    "## Bin4\n",
    "B4L2 =[]\n",
    "i=1\n",
    "groups = mk2_bin4.groupby(['ProductId'])\n",
    "l = len(groups)\n",
    "for competition_name, group in (groups):\n",
    "    t=checkPrbl(group)\n",
    "    sys.stdout.write(\"\\r Processing in product {0}/{1}\".format(i,l))\n",
    "    sys.stdout.flush()\n",
    "    B4L2.append(t)\n",
    "    i+=1\n",
    "print(\"\\n Done!\")\n",
    "B4L2 = np.reshape(B4L2,(l, 5))\n",
    "B4SS2 = sum(B4L2)\n",
    "B4S2 = sum(B4L2!=0)\n",
    "clear_output()"
   ]
  },
  {
   "cell_type": "code",
   "execution_count": 180,
   "metadata": {
    "ExecuteTime": {
     "end_time": "2017-05-13T16:47:09.439890Z",
     "start_time": "2017-05-13T16:47:09.436127Z"
    },
    "collapsed": true
   },
   "outputs": [],
   "source": [
    "C1A2 = np.reshape([B1SS2,B2SS2,B3SS2,B4SS2],(4,5))\n",
    "C2A2 = np.reshape([B1S2,B2S2,B3S2,B4S2],(4,5))"
   ]
  },
  {
   "cell_type": "code",
   "execution_count": 181,
   "metadata": {
    "ExecuteTime": {
     "end_time": "2017-05-13T16:47:09.456222Z",
     "start_time": "2017-05-13T16:47:09.442181Z"
    },
    "collapsed": false
   },
   "outputs": [
    {
     "name": "stdout",
     "output_type": "stream",
     "text": [
      "\n",
      "============================================================\n",
      "Counting products having problems per bin for market 2: UK\n",
      "============================================================\n",
      "\n",
      "Bins       #Product    #MultiWin    #ZeroWin    #MultiSeller    #FewOffer\n",
      "-------  ----------  -----------  ----------  --------------  -----------\n",
      "[0-5]           105            0          81               4          105\n",
      "[5-10]            2            0           2               0            2\n",
      "[10-20]           2            0           1               0            2\n",
      ">20               8            0           7               1            8\n"
     ]
    }
   ],
   "source": [
    "\"\"\"\n",
    "============================================================\n",
    "Counting products having problems per bin for market 2: UK\n",
    "============================================================\n",
    "\"\"\"\n",
    "print(__doc__)\n",
    "## insert to table\n",
    "## market 2: prbs per product\n",
    "index = ['[0-5]','[5-10]','[10-20]', '>20']\n",
    "df_mk2_prd_bin = pd.DataFrame([],index=index, columns=['#Product','#MultiWin','#ZeroWin',\\\n",
    "                                                   '#MultiSeller','#FewOffer',])\n",
    "df_mk2_prd_bin.index.name = 'Bins'\n",
    "df_mk2_prd_bin[\"#Product\"] = C2A2[:,0]\n",
    "df_mk2_prd_bin[\"#MultiWin\"] = C2A2[:,1]\n",
    "df_mk2_prd_bin[\"#ZeroWin\"] = C2A2[:,2]\n",
    "df_mk2_prd_bin[\"#MultiSeller\"] = C2A2[:,3]\n",
    "df_mk2_prd_bin[\"#FewOffer\"] = C2A2[:,4]\n",
    "print(tabulate(df_mk2_prd_bin,headers='keys', tablefmt='simple'))\n"
   ]
  },
  {
   "cell_type": "code",
   "execution_count": 182,
   "metadata": {
    "ExecuteTime": {
     "end_time": "2017-05-13T16:47:09.471547Z",
     "start_time": "2017-05-13T16:47:09.458494Z"
    },
    "collapsed": false
   },
   "outputs": [
    {
     "name": "stdout",
     "output_type": "stream",
     "text": [
      "\n",
      "==============================================================\n",
      "Counting competitions having problems per bin for market 2: UK\n",
      "==============================================================\n",
      "\n",
      "Bins       #Competitions    #MultiWin    #ZeroWin    #MultiSeller    #FewOffer\n",
      "-------  ---------------  -----------  ----------  --------------  -----------\n",
      "[0-5]                174            0         129               6          174\n",
      "[5-10]                16            0          12               0           16\n",
      "[10-20]               36            0          10               0           35\n",
      ">20                  492            0         208              10          385\n"
     ]
    }
   ],
   "source": [
    "\"\"\"\n",
    "==============================================================\n",
    "Counting competitions having problems per bin for market 2: UK\n",
    "==============================================================\n",
    "\"\"\"\n",
    "print(__doc__)\n",
    "## ## market 2: prbs per competition\n",
    "df_mk2_comp_bin = pd.DataFrame([],index=index, columns=['#Competitions','#MultiWin','#ZeroWin',\\\n",
    "                                                   '#MultiSeller','#FewOffer',])\n",
    "df_mk2_comp_bin.index.name = 'Bins'\n",
    "df_mk2_comp_bin[\"#Competitions\"] = C1A2[:,0]\n",
    "df_mk2_comp_bin[\"#MultiWin\"] = C1A2[:,1]\n",
    "df_mk2_comp_bin[\"#ZeroWin\"] = C1A2[:,2]\n",
    "df_mk2_comp_bin[\"#MultiSeller\"] = C1A2[:,3]\n",
    "df_mk2_comp_bin[\"#FewOffer\"] = C1A2[:,4]\n",
    "print(tabulate(df_mk2_comp_bin,headers='keys', tablefmt='simple'))\n"
   ]
  },
  {
   "cell_type": "markdown",
   "metadata": {},
   "source": [
    "## <font color='darkblue'>Market 3 : Germany</font>"
   ]
  },
  {
   "cell_type": "code",
   "execution_count": 183,
   "metadata": {
    "ExecuteTime": {
     "end_time": "2017-05-13T16:47:12.590018Z",
     "start_time": "2017-05-13T16:47:09.473953Z"
    },
    "collapsed": false
   },
   "outputs": [],
   "source": [
    "## Market 3\n",
    "\n",
    "## Bin1\n",
    "B1L3 =[]\n",
    "i=1\n",
    "groups = mk3_bin1.groupby(['ProductId'])\n",
    "l = len(groups)\n",
    "for competition_name, group in (groups):\n",
    "    t=checkPrbl(group)\n",
    "    sys.stdout.write(\"\\r Processing in product {0}/{1}\".format(i,l))\n",
    "    sys.stdout.flush()\n",
    "    B1L3.append(t)\n",
    "    i+=1\n",
    "print(\"\\n Done!\")\n",
    "B1L3 = np.reshape(B1L3,(l, 5))\n",
    "B1SS3 = sum(B1L3)\n",
    "B1S3 = sum(B1L3!=0)\n",
    "\n",
    "## Bin2\n",
    "B2L3 =[]\n",
    "i=1\n",
    "groups = mk3_bin2.groupby(['ProductId'])\n",
    "l = len(groups)\n",
    "for competition_name, group in (groups):\n",
    "    t=checkPrbl(group)\n",
    "    sys.stdout.write(\"\\r Processing in product {0}/{1}\".format(i,l))\n",
    "    sys.stdout.flush()\n",
    "    B2L3.append(t)\n",
    "    i+=1\n",
    "print(\"\\n Done!\")\n",
    "B2L3 = np.reshape(B2L3,(l, 5))\n",
    "B2SS3 = sum(B2L3)\n",
    "B2S3 = sum(B2L3!=0)\n",
    "\n",
    "## Bin3\n",
    "B3L3 =[]\n",
    "i=1\n",
    "groups = mk3_bin3.groupby(['ProductId'])\n",
    "l = len(groups)\n",
    "for competition_name, group in (groups):\n",
    "    t=checkPrbl(group)\n",
    "    sys.stdout.write(\"\\r Processing in product {0}/{1}\".format(i,l))\n",
    "    sys.stdout.flush()\n",
    "    B3L3.append(t)\n",
    "    i+=1\n",
    "print(\"\\n Done!\")\n",
    "B3L3 = np.reshape(B3L3,(l, 5))\n",
    "B3SS3 = sum(B3L3)\n",
    "B3S3 = sum(B3L3!=0)\n",
    "\n",
    "## Bin4\n",
    "B4L3 =[]\n",
    "i=1\n",
    "groups = mk3_bin4.groupby(['ProductId'])\n",
    "l = len(groups)\n",
    "for competition_name, group in (groups):\n",
    "    t=checkPrbl(group)\n",
    "    sys.stdout.write(\"\\r Processing in product {0}/{1}\".format(i,l))\n",
    "    sys.stdout.flush()\n",
    "    B4L3.append(t)\n",
    "    i+=1\n",
    "print(\"\\n Done!\")\n",
    "B4L3 = np.reshape(B4L3,(l, 5))\n",
    "B4SS3 = sum(B4L3)\n",
    "B4S3 = sum(B4L3!=0)\n",
    "clear_output()"
   ]
  },
  {
   "cell_type": "code",
   "execution_count": 184,
   "metadata": {
    "ExecuteTime": {
     "end_time": "2017-05-13T16:47:12.597639Z",
     "start_time": "2017-05-13T16:47:12.592770Z"
    },
    "collapsed": true
   },
   "outputs": [],
   "source": [
    "C1A3 = np.reshape([B1SS3,B2SS3,B3SS3,B4SS3],(4,5))\n",
    "C2A3 = np.reshape([B1S3,B2S3,B3S3,B4S3],(4,5))"
   ]
  },
  {
   "cell_type": "code",
   "execution_count": 185,
   "metadata": {
    "ExecuteTime": {
     "end_time": "2017-05-13T16:47:12.620913Z",
     "start_time": "2017-05-13T16:47:12.600711Z"
    },
    "collapsed": false
   },
   "outputs": [
    {
     "name": "stdout",
     "output_type": "stream",
     "text": [
      "\n",
      "===============================================================\n",
      "Counting products having problems per bin for market 3: Germany\n",
      "===============================================================\n",
      "\n",
      "Bins       #Product    #MultiWin    #ZeroWin    #MultiSeller    #FewOffer\n",
      "-------  ----------  -----------  ----------  --------------  -----------\n",
      "[0-5]           111            0          97               3          111\n",
      "[5-10]           11            0           9               1           11\n",
      "[10-20]           2            0           2               1            2\n",
      ">20               6            0           3               1            6\n"
     ]
    }
   ],
   "source": [
    "\"\"\"\n",
    "===============================================================\n",
    "Counting products having problems per bin for market 3: Germany\n",
    "===============================================================\n",
    "\"\"\"\n",
    "print(__doc__)\n",
    "## market 3: prbs per product\n",
    "index = ['[0-5]','[5-10]','[10-20]', '>20']\n",
    "df_mk3_prd_bin = pd.DataFrame([],index=index, columns=['#Product','#MultiWin','#ZeroWin',\\\n",
    "                                                   '#MultiSeller','#FewOffer',])\n",
    "df_mk3_prd_bin.index.name = 'Bins'\n",
    "df_mk3_prd_bin[\"#Product\"] = C2A3[:,0]\n",
    "df_mk3_prd_bin[\"#MultiWin\"] = C2A3[:,1]\n",
    "df_mk3_prd_bin[\"#ZeroWin\"] = C2A3[:,2]\n",
    "df_mk3_prd_bin[\"#MultiSeller\"] = C2A3[:,3]\n",
    "df_mk3_prd_bin[\"#FewOffer\"] = C2A3[:,4]\n",
    "print(tabulate(df_mk3_prd_bin,headers='keys', tablefmt='simple'))\n"
   ]
  },
  {
   "cell_type": "code",
   "execution_count": 186,
   "metadata": {
    "ExecuteTime": {
     "end_time": "2017-05-13T16:47:12.640963Z",
     "start_time": "2017-05-13T16:47:12.623335Z"
    },
    "collapsed": false
   },
   "outputs": [
    {
     "name": "stdout",
     "output_type": "stream",
     "text": [
      "\n",
      "===================================================================\n",
      "Counting competitions having problems per bin for market 3: Germany\n",
      "===================================================================\n",
      "\n",
      "Bins       #Competitions    #MultiWin    #ZeroWin    #MultiSeller    #FewOffer\n",
      "-------  ---------------  -----------  ----------  --------------  -----------\n",
      "[0-5]                174            0         129               6          174\n",
      "[5-10]                16            0          12               0           16\n",
      "[10-20]               36            0          10               0           35\n",
      ">20                  492            0         208              10          385\n"
     ]
    }
   ],
   "source": [
    "\"\"\"\n",
    "===================================================================\n",
    "Counting competitions having problems per bin for market 3: Germany\n",
    "===================================================================\n",
    "\"\"\"\n",
    "print(__doc__)\n",
    "## ## market 3: prbs per competition\n",
    "df_mk3_comp_bin = pd.DataFrame([],index=index, columns=['#Competitions','#MultiWin','#ZeroWin',\\\n",
    "                                                   '#MultiSeller','#FewOffer',])\n",
    "df_mk3_comp_bin.index.name = 'Bins'\n",
    "df_mk3_comp_bin[\"#Competitions\"] = C1A3[:,0]\n",
    "df_mk3_comp_bin[\"#MultiWin\"] = C1A3[:,1]\n",
    "df_mk3_comp_bin[\"#ZeroWin\"] = C1A3[:,2]\n",
    "df_mk3_comp_bin[\"#MultiSeller\"] = C1A3[:,3]\n",
    "df_mk3_comp_bin[\"#FewOffer\"] = C1A3[:,4]\n",
    "print(tabulate(df_mk2_comp_bin,headers='keys', tablefmt='simple'))\n"
   ]
  },
  {
   "cell_type": "markdown",
   "metadata": {},
   "source": [
    "## <font color='darkblue'>Market 4 : Spain</font>"
   ]
  },
  {
   "cell_type": "code",
   "execution_count": 187,
   "metadata": {
    "ExecuteTime": {
     "end_time": "2017-05-13T16:47:16.798343Z",
     "start_time": "2017-05-13T16:47:12.643366Z"
    },
    "collapsed": false
   },
   "outputs": [],
   "source": [
    "## Market 4\n",
    "\n",
    "## Bin1\n",
    "B1L4 =[]\n",
    "i=1\n",
    "groups = mk4_bin1.groupby(['ProductId'])\n",
    "l = len(groups)\n",
    "for competition_name, group in (groups):\n",
    "    t=checkPrbl(group)\n",
    "    sys.stdout.write(\"\\r Processing in product {0}/{1}\".format(i,l))\n",
    "    sys.stdout.flush()\n",
    "    B1L4.append(t)\n",
    "    i+=1\n",
    "print(\"\\n Done!\")\n",
    "B1L4 = np.reshape(B1L4,(l, 5))\n",
    "B1SS4 = sum(B1L4)\n",
    "B1S4 = sum(B1L4!=0)\n",
    "\n",
    "## Bin2\n",
    "B2L4 =[]\n",
    "i=1\n",
    "groups = mk4_bin2.groupby(['ProductId'])\n",
    "l = len(groups)\n",
    "for competition_name, group in (groups):\n",
    "    t=checkPrbl(group)\n",
    "    sys.stdout.write(\"\\r Processing in product {0}/{1}\".format(i,l))\n",
    "    sys.stdout.flush()\n",
    "    B2L4.append(t)\n",
    "    i+=1\n",
    "print(\"\\n Done!\")\n",
    "B2L4 = np.reshape(B2L4,(l, 5))\n",
    "B2SS4 = sum(B2L4)\n",
    "B2S4 = sum(B2L4!=0)\n",
    "\n",
    "## Bin3\n",
    "B3L4 =[]\n",
    "i=1\n",
    "groups = mk4_bin3.groupby(['ProductId'])\n",
    "l = len(groups)\n",
    "for competition_name, group in (groups):\n",
    "    t=checkPrbl(group)\n",
    "    sys.stdout.write(\"\\r Processing in product {0}/{1}\".format(i,l))\n",
    "    sys.stdout.flush()\n",
    "    B3L4.append(t)\n",
    "    i+=1\n",
    "print(\"\\n Done!\")\n",
    "B3L4 = np.reshape(B3L4,(l, 5))\n",
    "B3SS4 = sum(B3L4)\n",
    "B3S4 = sum(B3L4!=0)\n",
    "\n",
    "## Bin4\n",
    "B4L4 =[]\n",
    "i=1\n",
    "groups = mk4_bin4.groupby(['ProductId'])\n",
    "l = len(groups)\n",
    "for competition_name, group in (groups):\n",
    "    t=checkPrbl(group)\n",
    "    sys.stdout.write(\"\\r Processing in product {0}/{1}\".format(i,l))\n",
    "    sys.stdout.flush()\n",
    "    B4L4.append(t)\n",
    "    i+=1\n",
    "print(\"\\n Done!\")\n",
    "B4L4 = np.reshape(B4L4,(l, 5))\n",
    "B4SS4 = sum(B4L4)\n",
    "B4S4 = sum(B4L4!=0)\n",
    "clear_output()"
   ]
  },
  {
   "cell_type": "code",
   "execution_count": 188,
   "metadata": {
    "ExecuteTime": {
     "end_time": "2017-05-13T16:47:16.804545Z",
     "start_time": "2017-05-13T16:47:16.800598Z"
    },
    "collapsed": true
   },
   "outputs": [],
   "source": [
    "C1A4 = np.reshape([B1SS4,B2SS4,B3SS4,B4SS4],(4,5))\n",
    "C2A4 = np.reshape([B1S4,B2S4,B3S4,B4S4],(4,5))"
   ]
  },
  {
   "cell_type": "code",
   "execution_count": 189,
   "metadata": {
    "ExecuteTime": {
     "end_time": "2017-05-13T16:47:16.822665Z",
     "start_time": "2017-05-13T16:47:16.806647Z"
    },
    "collapsed": false
   },
   "outputs": [
    {
     "name": "stdout",
     "output_type": "stream",
     "text": [
      "\n",
      "===============================================================\n",
      "Counting products having problems per bin for market 4: Spain\n",
      "===============================================================\n",
      "\n",
      "Bins       #Product    #MultiWin    #ZeroWin    #MultiSeller    #FewOffer\n",
      "-------  ----------  -----------  ----------  --------------  -----------\n",
      "[0-5]           137            0         107               9          137\n",
      "[5-10]           14            0          12               2           14\n",
      "[10-20]           4            0           4               1            4\n",
      ">20               8            0           6               3            7\n"
     ]
    }
   ],
   "source": [
    "\"\"\"\n",
    "===============================================================\n",
    "Counting products having problems per bin for market 4: Spain\n",
    "===============================================================\n",
    "\"\"\"\n",
    "print(__doc__)\n",
    "## market 4: prbs per product\n",
    "index = ['[0-5]','[5-10]','[10-20]', '>20']\n",
    "df_mk4_prd_bin = pd.DataFrame([],index=index, columns=['#Product','#MultiWin','#ZeroWin',\\\n",
    "                                                   '#MultiSeller','#FewOffer',])\n",
    "df_mk4_prd_bin.index.name = 'Bins'\n",
    "df_mk4_prd_bin[\"#Product\"] = C2A4[:,0]\n",
    "df_mk4_prd_bin[\"#MultiWin\"] = C2A4[:,1]\n",
    "df_mk4_prd_bin[\"#ZeroWin\"] = C2A4[:,2]\n",
    "df_mk4_prd_bin[\"#MultiSeller\"] = C2A4[:,3]\n",
    "df_mk4_prd_bin[\"#FewOffer\"] = C2A4[:,4]\n",
    "print(tabulate(df_mk4_prd_bin,headers='keys', tablefmt='simple'))\n"
   ]
  },
  {
   "cell_type": "code",
   "execution_count": 190,
   "metadata": {
    "ExecuteTime": {
     "end_time": "2017-05-13T16:47:16.841792Z",
     "start_time": "2017-05-13T16:47:16.825530Z"
    },
    "collapsed": false
   },
   "outputs": [
    {
     "name": "stdout",
     "output_type": "stream",
     "text": [
      "\n",
      "===================================================================\n",
      "Counting competitions having problems per bin for market 4: Spain\n",
      "===================================================================\n",
      "\n",
      "Bins       #Competitions    #MultiWin    #ZeroWin    #MultiSeller    #FewOffer\n",
      "-------  ---------------  -----------  ----------  --------------  -----------\n",
      "[0-5]                268            0         181              11          268\n",
      "[5-10]               106            0          69              12          104\n",
      "[10-20]               60            0          24               3           60\n",
      ">20                  558            0         136             117          462\n"
     ]
    }
   ],
   "source": [
    "\"\"\"\n",
    "===================================================================\n",
    "Counting competitions having problems per bin for market 4: Spain\n",
    "===================================================================\n",
    "\"\"\"\n",
    "print(__doc__)\n",
    "## ## market 4: prbs per competition\n",
    "df_mk4_comp_bin = pd.DataFrame([],index=index, columns=['#Competitions','#MultiWin','#ZeroWin',\\\n",
    "                                                   '#MultiSeller','#FewOffer',])\n",
    "df_mk4_comp_bin.index.name = 'Bins'\n",
    "df_mk4_comp_bin[\"#Competitions\"] = C1A4[:,0]\n",
    "df_mk4_comp_bin[\"#MultiWin\"] = C1A4[:,1]\n",
    "df_mk4_comp_bin[\"#ZeroWin\"] = C1A4[:,2]\n",
    "df_mk4_comp_bin[\"#MultiSeller\"] = C1A4[:,3]\n",
    "df_mk4_comp_bin[\"#FewOffer\"] = C1A4[:,4]\n",
    "print(tabulate(df_mk4_comp_bin,headers='keys', tablefmt='simple'))\n"
   ]
  },
  {
   "cell_type": "markdown",
   "metadata": {},
   "source": [
    "## <font color='darkblue'>Market 5 : India</font>"
   ]
  },
  {
   "cell_type": "code",
   "execution_count": 191,
   "metadata": {
    "ExecuteTime": {
     "end_time": "2017-05-13T16:47:18.918513Z",
     "start_time": "2017-05-13T16:47:16.844139Z"
    },
    "collapsed": false
   },
   "outputs": [],
   "source": [
    "## Market 5\n",
    "\n",
    "## Bin1\n",
    "B1L5 =[]\n",
    "i=1\n",
    "groups = mk5_bin1.groupby(['ProductId'])\n",
    "l = len(groups)\n",
    "for competition_name, group in (groups):\n",
    "    t=checkPrbl(group)\n",
    "    sys.stdout.write(\"\\r Processing in product {0}/{1}\".format(i,l))\n",
    "    sys.stdout.flush()\n",
    "    B1L5.append(t)\n",
    "    i+=1\n",
    "print(\"\\n Done!\")\n",
    "B1L5 = np.reshape(B1L5,(l, 5))\n",
    "B1SS5 = sum(B1L5)\n",
    "B1S5 = sum(B1L5!=0)\n",
    "\n",
    "## Bin2\n",
    "B2L5 =[]\n",
    "i=1\n",
    "groups = mk5_bin2.groupby(['ProductId'])\n",
    "l = len(groups)\n",
    "for competition_name, group in (groups):\n",
    "    t=checkPrbl(group)\n",
    "    sys.stdout.write(\"\\r Processing in product {0}/{1}\".format(i,l))\n",
    "    sys.stdout.flush()\n",
    "    B2L5.append(t)\n",
    "    i+=1\n",
    "print(\"\\n Done!\")\n",
    "B2L5 = np.reshape(B2L5,(l, 5))\n",
    "B2SS5 = sum(B2L5)\n",
    "B2S5 = sum(B2L5!=0)\n",
    "\n",
    "## Bin3\n",
    "B3L5 =[]\n",
    "i=1\n",
    "groups = mk5_bin3.groupby(['ProductId'])\n",
    "l = len(groups)\n",
    "for competition_name, group in (groups):\n",
    "    t=checkPrbl(group)\n",
    "    sys.stdout.write(\"\\r Processing in product {0}/{1}\".format(i,l))\n",
    "    sys.stdout.flush()\n",
    "    B3L5.append(t)\n",
    "    i+=1\n",
    "print(\"\\n Done!\")\n",
    "B3L5 = np.reshape(B3L5,(l, 5))\n",
    "B3SS5 = sum(B3L5)\n",
    "B3S5 = sum(B3L5!=0)\n",
    "\n",
    "## Bin4\n",
    "B4L5 =[]\n",
    "i=1\n",
    "groups = mk5_bin4.groupby(['ProductId'])\n",
    "l = len(groups)\n",
    "for competition_name, group in (groups):\n",
    "    t=checkPrbl(group)\n",
    "    sys.stdout.write(\"\\r Processing in product {0}/{1}\".format(i,l))\n",
    "    sys.stdout.flush()\n",
    "    B4L5.append(t)\n",
    "    i+=1\n",
    "print(\"\\n Done!\")\n",
    "B4L5 = np.reshape(B4L5,(l, 5))\n",
    "B4SS5 = sum(B4L5)\n",
    "B4S5 = sum(B4L5!=0)\n",
    "clear_output()"
   ]
  },
  {
   "cell_type": "code",
   "execution_count": 192,
   "metadata": {
    "ExecuteTime": {
     "end_time": "2017-05-13T16:47:18.925237Z",
     "start_time": "2017-05-13T16:47:18.921051Z"
    },
    "collapsed": true
   },
   "outputs": [],
   "source": [
    "C1A5 = np.reshape([B1SS5,B2SS5,B3SS5,B4SS5],(4,5))\n",
    "C2A5 = np.reshape([B1S5,B2S5,B3S5,B4S5],(4,5))"
   ]
  },
  {
   "cell_type": "code",
   "execution_count": 193,
   "metadata": {
    "ExecuteTime": {
     "end_time": "2017-05-13T16:47:18.941304Z",
     "start_time": "2017-05-13T16:47:18.927251Z"
    },
    "collapsed": false
   },
   "outputs": [
    {
     "name": "stdout",
     "output_type": "stream",
     "text": [
      "\n",
      "===============================================================\n",
      "Counting products having problems per bin for market 5: India\n",
      "===============================================================\n",
      "\n",
      "Bins       #Product    #MultiWin    #ZeroWin    #MultiSeller    #FewOffer\n",
      "-------  ----------  -----------  ----------  --------------  -----------\n",
      "[0-5]           126            0         104               4          126\n",
      "[5-10]            6            0           5               2            6\n",
      "[10-20]           1            0           1               0            1\n",
      ">20               1            0           1               0            1\n"
     ]
    }
   ],
   "source": [
    "\"\"\"\n",
    "===============================================================\n",
    "Counting products having problems per bin for market 5: India\n",
    "===============================================================\n",
    "\"\"\"\n",
    "print(__doc__)\n",
    "## market 5: prbs per product\n",
    "index = ['[0-5]','[5-10]','[10-20]', '>20']\n",
    "df_mk5_prd_bin = pd.DataFrame([],index=index, columns=['#Product','#MultiWin','#ZeroWin',\\\n",
    "                                                   '#MultiSeller','#FewOffer',])\n",
    "df_mk5_prd_bin.index.name = 'Bins'\n",
    "df_mk5_prd_bin[\"#Product\"] = C2A5[:,0]\n",
    "df_mk5_prd_bin[\"#MultiWin\"] = C2A5[:,1]\n",
    "df_mk5_prd_bin[\"#ZeroWin\"] = C2A5[:,2]\n",
    "df_mk5_prd_bin[\"#MultiSeller\"] = C2A5[:,3]\n",
    "df_mk5_prd_bin[\"#FewOffer\"] = C2A5[:,4]\n",
    "print(tabulate(df_mk5_prd_bin,headers='keys', tablefmt='simple'))\n"
   ]
  },
  {
   "cell_type": "code",
   "execution_count": 194,
   "metadata": {
    "ExecuteTime": {
     "end_time": "2017-05-13T16:47:18.956638Z",
     "start_time": "2017-05-13T16:47:18.943378Z"
    },
    "collapsed": false
   },
   "outputs": [
    {
     "name": "stdout",
     "output_type": "stream",
     "text": [
      "\n",
      "===================================================================\n",
      "Counting competitions having problems per bin for market 5: India\n",
      "===================================================================\n",
      "\n",
      "Bins       #Competitions    #MultiWin    #ZeroWin    #MultiSeller    #FewOffer\n",
      "-------  ---------------  -----------  ----------  --------------  -----------\n",
      "[0-5]                192            0         149               8          189\n",
      "[5-10]                39            0          18               5           39\n",
      "[10-20]               15            0           1               0           15\n",
      ">20                  199            0          54               0          199\n"
     ]
    }
   ],
   "source": [
    "\"\"\"\n",
    "===================================================================\n",
    "Counting competitions having problems per bin for market 5: India\n",
    "===================================================================\n",
    "\"\"\"\n",
    "print(__doc__)\n",
    "## ## market 5: prbs per competition\n",
    "df_mk5_comp_bin = pd.DataFrame([],index=index, columns=['#Competitions','#MultiWin','#ZeroWin',\\\n",
    "                                                   '#MultiSeller','#FewOffer',])\n",
    "df_mk5_comp_bin.index.name = 'Bins'\n",
    "df_mk5_comp_bin[\"#Competitions\"] = C1A5[:,0]\n",
    "df_mk5_comp_bin[\"#MultiWin\"] = C1A5[:,1]\n",
    "df_mk5_comp_bin[\"#ZeroWin\"] = C1A5[:,2]\n",
    "df_mk5_comp_bin[\"#MultiSeller\"] = C1A5[:,3]\n",
    "df_mk5_comp_bin[\"#FewOffer\"] = C1A5[:,4]\n",
    "print(tabulate(df_mk5_comp_bin,headers='keys', tablefmt='simple'))\n"
   ]
  },
  {
   "cell_type": "markdown",
   "metadata": {},
   "source": [
    "## <font color='darkblue'>Market 6 : Italy</font>"
   ]
  },
  {
   "cell_type": "code",
   "execution_count": 195,
   "metadata": {
    "ExecuteTime": {
     "end_time": "2017-05-13T16:48:17.864000Z",
     "start_time": "2017-05-13T16:47:18.958887Z"
    },
    "collapsed": false
   },
   "outputs": [],
   "source": [
    "## Market 6\n",
    "\n",
    "## Bin1\n",
    "B1L6 =[]\n",
    "i=1\n",
    "groups = mk6_bin1.groupby(['ProductId'])\n",
    "l = len(groups)\n",
    "for competition_name, group in (groups):\n",
    "    t=checkPrbl(group)\n",
    "    sys.stdout.write(\"\\r Processing in product {0}/{1}\".format(i,l))\n",
    "    sys.stdout.flush()\n",
    "    B1L6.append(t)\n",
    "    i+=1\n",
    "print(\"\\n Done!\")\n",
    "B1L6 = np.reshape(B1L6,(l, 5))\n",
    "B1SS6 = sum(B1L6)\n",
    "B1S6 = sum(B1L6!=0)\n",
    "\n",
    "## Bin2\n",
    "B2L6 =[]\n",
    "i=1\n",
    "groups = mk6_bin2.groupby(['ProductId'])\n",
    "l = len(groups)\n",
    "for competition_name, group in (groups):\n",
    "    t=checkPrbl(group)\n",
    "    sys.stdout.write(\"\\r Processing in product {0}/{1}\".format(i,l))\n",
    "    sys.stdout.flush()\n",
    "    B2L6.append(t)\n",
    "    i+=1\n",
    "print(\"\\n Done!\")\n",
    "B2L6 = np.reshape(B2L6,(l, 5))\n",
    "B2SS6 = sum(B2L6)\n",
    "B2S6 = sum(B2L6!=0)\n",
    "\n",
    "## Bin3\n",
    "B3L6 =[]\n",
    "i=1\n",
    "groups = mk6_bin3.groupby(['ProductId'])\n",
    "l = len(groups)\n",
    "for competition_name, group in (groups):\n",
    "    t=checkPrbl(group)\n",
    "    sys.stdout.write(\"\\r Processing in product {0}/{1}\".format(i,l))\n",
    "    sys.stdout.flush()\n",
    "    B3L6.append(t)\n",
    "    i+=1\n",
    "print(\"\\n Done!\")\n",
    "B3L6 = np.reshape(B3L6,(l, 5))\n",
    "B3SS6 = sum(B3L6)\n",
    "B3S6 = sum(B3L6!=0)\n",
    "\n",
    "## Bin4\n",
    "B4L6 =[]\n",
    "i=1\n",
    "groups = mk6_bin4.groupby(['ProductId'])\n",
    "l = len(groups)\n",
    "for competition_name, group in (groups):\n",
    "    t=checkPrbl(group)\n",
    "    sys.stdout.write(\"\\r Processing in product {0}/{1}\".format(i,l))\n",
    "    sys.stdout.flush()\n",
    "    B4L6.append(t)\n",
    "    i+=1\n",
    "print(\"\\n Done!\")\n",
    "B4L6 = np.reshape(B4L6,(l, 5))\n",
    "B4SS6 = sum(B4L6)\n",
    "B4S6 = sum(B4L6!=0)\n",
    "clear_output()"
   ]
  },
  {
   "cell_type": "code",
   "execution_count": 196,
   "metadata": {
    "ExecuteTime": {
     "end_time": "2017-05-13T16:48:17.870489Z",
     "start_time": "2017-05-13T16:48:17.866319Z"
    },
    "collapsed": true
   },
   "outputs": [],
   "source": [
    "C1A6 = np.reshape([B1SS6,B2SS6,B3SS6,B4SS6],(4,5))\n",
    "C2A6 = np.reshape([B1S6,B2S6,B3S6,B4S6],(4,5))"
   ]
  },
  {
   "cell_type": "code",
   "execution_count": 197,
   "metadata": {
    "ExecuteTime": {
     "end_time": "2017-05-13T16:48:17.888916Z",
     "start_time": "2017-05-13T16:48:17.872654Z"
    },
    "collapsed": false
   },
   "outputs": [
    {
     "name": "stdout",
     "output_type": "stream",
     "text": [
      "\n",
      "===============================================================\n",
      "Counting products having problems per bin for market 6: Italy\n",
      "===============================================================\n",
      "\n",
      "Bins       #Product    #MultiWin    #ZeroWin    #MultiSeller    #FewOffer\n",
      "-------  ----------  -----------  ----------  --------------  -----------\n",
      "[0-5]           962           17         181              66          603\n",
      "[5-10]          160           13           8              14           73\n",
      "[10-20]          91            8           5              10           44\n",
      ">20             136           19          15               6           65\n"
     ]
    }
   ],
   "source": [
    "\"\"\"\n",
    "===============================================================\n",
    "Counting products having problems per bin for market 6: Italy\n",
    "===============================================================\n",
    "\"\"\"\n",
    "print(__doc__)\n",
    "## market 6: prbs per product\n",
    "index = ['[0-5]','[5-10]','[10-20]', '>20']\n",
    "df_mk6_prd_bin = pd.DataFrame([],index=index, columns=['#Product','#MultiWin','#ZeroWin',\\\n",
    "                                                   '#MultiSeller','#FewOffer',])\n",
    "df_mk6_prd_bin.index.name = 'Bins'\n",
    "df_mk6_prd_bin[\"#Product\"] = C2A6[:,0]\n",
    "df_mk6_prd_bin[\"#MultiWin\"] = C2A6[:,1]\n",
    "df_mk6_prd_bin[\"#ZeroWin\"] = C2A6[:,2]\n",
    "df_mk6_prd_bin[\"#MultiSeller\"] = C2A6[:,3]\n",
    "df_mk6_prd_bin[\"#FewOffer\"] = C2A6[:,4]\n",
    "print(tabulate(df_mk6_prd_bin,headers='keys', tablefmt='simple'))\n"
   ]
  },
  {
   "cell_type": "code",
   "execution_count": 198,
   "metadata": {
    "ExecuteTime": {
     "end_time": "2017-05-13T16:48:17.905128Z",
     "start_time": "2017-05-13T16:48:17.891802Z"
    },
    "collapsed": false
   },
   "outputs": [
    {
     "name": "stdout",
     "output_type": "stream",
     "text": [
      "\n",
      "===================================================================\n",
      "Counting competitions having problems per bin for market 6: Italy\n",
      "===================================================================\n",
      "\n",
      "Bins       #Competitions    #MultiWin    #ZeroWin    #MultiSeller    #FewOffer\n",
      "-------  ---------------  -----------  ----------  --------------  -----------\n",
      "[0-5]               1933           28         232             146         1135\n",
      "[5-10]              1224           25          27              75          510\n",
      "[10-20]             1326           18          29             126          524\n",
      ">20                12054          686         365             182         4478\n"
     ]
    }
   ],
   "source": [
    "\"\"\"\n",
    "===================================================================\n",
    "Counting competitions having problems per bin for market 6: Italy\n",
    "===================================================================\n",
    "\"\"\"\n",
    "print(__doc__)\n",
    "## ## market 6: prbs per competition\n",
    "df_mk6_comp_bin = pd.DataFrame([],index=index, columns=['#Competitions','#MultiWin','#ZeroWin',\\\n",
    "                                                   '#MultiSeller','#FewOffer',])\n",
    "df_mk6_comp_bin.index.name = 'Bins'\n",
    "df_mk6_comp_bin[\"#Competitions\"] = C1A6[:,0]\n",
    "df_mk6_comp_bin[\"#MultiWin\"] = C1A6[:,1]\n",
    "df_mk6_comp_bin[\"#ZeroWin\"] = C1A6[:,2]\n",
    "df_mk6_comp_bin[\"#MultiSeller\"] = C1A6[:,3]\n",
    "df_mk6_comp_bin[\"#FewOffer\"] = C1A6[:,4]\n",
    "print(tabulate(df_mk6_comp_bin,headers='keys', tablefmt='simple'))\n"
   ]
  },
  {
   "cell_type": "markdown",
   "metadata": {},
   "source": [
    "## <font color='darkblue'>Market 7 : US</font>"
   ]
  },
  {
   "cell_type": "code",
   "execution_count": 199,
   "metadata": {
    "ExecuteTime": {
     "end_time": "2017-05-13T16:49:08.836998Z",
     "start_time": "2017-05-13T16:48:17.907770Z"
    },
    "collapsed": false
   },
   "outputs": [],
   "source": [
    "## Market 7\n",
    "\n",
    "## Bin1\n",
    "B1L7 =[]\n",
    "i=1\n",
    "groups = mk7_bin1.groupby(['ProductId'])\n",
    "l = len(groups)\n",
    "for competition_name, group in (groups):\n",
    "    t=checkPrbl(group)\n",
    "    sys.stdout.write(\"\\r Processing in product {0}/{1}\".format(i,l))\n",
    "    sys.stdout.flush()\n",
    "    B1L7.append(t)\n",
    "    i+=1\n",
    "print(\"\\n Done!\")\n",
    "B1L7 = np.reshape(B1L7,(l, 5))\n",
    "B1SS7 = sum(B1L7)\n",
    "B1S7 = sum(B1L7!=0)\n",
    "\n",
    "## Bin2\n",
    "B2L7 =[]\n",
    "i=1\n",
    "groups = mk7_bin2.groupby(['ProductId'])\n",
    "l = len(groups)\n",
    "for competition_name, group in (groups):\n",
    "    t=checkPrbl(group)\n",
    "    sys.stdout.write(\"\\r Processing in product {0}/{1}\".format(i,l))\n",
    "    sys.stdout.flush()\n",
    "    B2L7.append(t)\n",
    "    i+=1\n",
    "print(\"\\n Done!\")\n",
    "B2L7 = np.reshape(B2L7,(l, 5))\n",
    "B2SS7 = sum(B2L7)\n",
    "B2S7 = sum(B2L7!=0)\n",
    "\n",
    "## Bin3\n",
    "B3L7 =[]\n",
    "i=1\n",
    "groups = mk7_bin3.groupby(['ProductId'])\n",
    "l = len(groups)\n",
    "for competition_name, group in (groups):\n",
    "    t=checkPrbl(group)\n",
    "    sys.stdout.write(\"\\r Processing in product {0}/{1}\".format(i,l))\n",
    "    sys.stdout.flush()\n",
    "    B3L7.append(t)\n",
    "    i+=1\n",
    "print(\"\\n Done!\")\n",
    "B3L7 = np.reshape(B3L7,(l, 5))\n",
    "B3SS7 = sum(B3L7)\n",
    "B3S7 = sum(B3L7!=0)\n",
    "\n",
    "## Bin4\n",
    "B4L7 =[]\n",
    "i=1\n",
    "groups = mk7_bin4.groupby(['ProductId'])\n",
    "l = len(groups)\n",
    "for competition_name, group in (groups):\n",
    "    t=checkPrbl(group)\n",
    "    sys.stdout.write(\"\\r Processing in product {0}/{1}\".format(i,l))\n",
    "    sys.stdout.flush()\n",
    "    B4L7.append(t)\n",
    "    i+=1\n",
    "print(\"\\n Done!\")\n",
    "B4L7 = np.reshape(B4L7,(l, 5))\n",
    "B4SS7 = sum(B4L7)\n",
    "B4S7 = sum(B4L7!=0)\n",
    "clear_output()"
   ]
  },
  {
   "cell_type": "code",
   "execution_count": 200,
   "metadata": {
    "ExecuteTime": {
     "end_time": "2017-05-13T16:49:08.847537Z",
     "start_time": "2017-05-13T16:49:08.842709Z"
    },
    "collapsed": true
   },
   "outputs": [],
   "source": [
    "C1A7 = np.reshape([B1SS7,B2SS7,B3SS7,B4SS7],(4,5))\n",
    "C2A7 = np.reshape([B1S7,B2S7,B3S7,B4S7],(4,5))"
   ]
  },
  {
   "cell_type": "code",
   "execution_count": 201,
   "metadata": {
    "ExecuteTime": {
     "end_time": "2017-05-13T16:49:08.864344Z",
     "start_time": "2017-05-13T16:49:08.850386Z"
    },
    "collapsed": false
   },
   "outputs": [
    {
     "name": "stdout",
     "output_type": "stream",
     "text": [
      "\n",
      "===============================================================\n",
      "Counting products having problems per bin for market 7: US\n",
      "===============================================================\n",
      "\n",
      "Bins       #Product    #MultiWin    #ZeroWin    #MultiSeller    #FewOffer\n",
      "-------  ----------  -----------  ----------  --------------  -----------\n",
      "[0-5]           409            0          94               2          407\n",
      "[5-10]          189            0           6               0          188\n",
      "[10-20]         220            0           6               4          217\n",
      ">20             127            0           9               3          124\n"
     ]
    }
   ],
   "source": [
    "\"\"\"\n",
    "===============================================================\n",
    "Counting products having problems per bin for market 7: US\n",
    "===============================================================\n",
    "\"\"\"\n",
    "print(__doc__)\n",
    "## market 7: prbs per product\n",
    "index = ['[0-5]','[5-10]','[10-20]', '>20']\n",
    "df_mk7_prd_bin = pd.DataFrame([],index=index, columns=['#Product','#MultiWin','#ZeroWin',\\\n",
    "                                                   '#MultiSeller','#FewOffer',])\n",
    "df_mk7_prd_bin.index.name = 'Bins'\n",
    "df_mk7_prd_bin[\"#Product\"] = C2A7[:,0]\n",
    "df_mk7_prd_bin[\"#MultiWin\"] = C2A7[:,1]\n",
    "df_mk7_prd_bin[\"#ZeroWin\"] = C2A7[:,2]\n",
    "df_mk7_prd_bin[\"#MultiSeller\"] = C2A7[:,3]\n",
    "df_mk7_prd_bin[\"#FewOffer\"] = C2A7[:,4]\n",
    "print(tabulate(df_mk7_prd_bin,headers='keys', tablefmt='simple'))\n"
   ]
  },
  {
   "cell_type": "code",
   "execution_count": 202,
   "metadata": {
    "ExecuteTime": {
     "end_time": "2017-05-13T16:49:08.879277Z",
     "start_time": "2017-05-13T16:49:08.866306Z"
    },
    "collapsed": false
   },
   "outputs": [
    {
     "name": "stdout",
     "output_type": "stream",
     "text": [
      "\n",
      "===================================================================\n",
      "Counting competitions having problems per bin for market 7: US\n",
      "===================================================================\n",
      "\n",
      "Bins       #Competitions    #MultiWin    #ZeroWin    #MultiSeller    #FewOffer\n",
      "-------  ---------------  -----------  ----------  --------------  -----------\n",
      "[0-5]               1046            0         165               6         1020\n",
      "[5-10]              1428            0          29               0         1410\n",
      "[10-20]             3166            0          17              32         3113\n",
      ">20                 8184            0          68             584         7193\n"
     ]
    }
   ],
   "source": [
    "\"\"\"\n",
    "===================================================================\n",
    "Counting competitions having problems per bin for market 7: US\n",
    "===================================================================\n",
    "\"\"\"\n",
    "print(__doc__)\n",
    "## ## market 7: prbs per competition\n",
    "df_mk7_comp_bin = pd.DataFrame([],index=index, columns=['#Competitions','#MultiWin','#ZeroWin',\\\n",
    "                                                   '#MultiSeller','#FewOffer',])\n",
    "df_mk7_comp_bin.index.name = 'Bins'\n",
    "df_mk7_comp_bin[\"#Competitions\"] = C1A7[:,0]\n",
    "df_mk7_comp_bin[\"#MultiWin\"] = C1A7[:,1]\n",
    "df_mk7_comp_bin[\"#ZeroWin\"] = C1A7[:,2]\n",
    "df_mk7_comp_bin[\"#MultiSeller\"] = C1A7[:,3]\n",
    "df_mk7_comp_bin[\"#FewOffer\"] = C1A7[:,4]\n",
    "print(tabulate(df_mk7_comp_bin,headers='keys', tablefmt='simple'))\n"
   ]
  },
  {
   "cell_type": "markdown",
   "metadata": {
    "collapsed": true
   },
   "source": [
    "# <font color='darkblue'>Conclusions</font>\n",
    "\n",
    "We have seen an analysis of the XML dataset provided, for each market covered.\n",
    "\n",
    "Questions:\n",
    "\n",
    "1. What are good strategies to deal with the problems identified? \n",
    "\n",
    "    * why do some problems happen? (XML format error)\n",
    "\n",
    "    * dropping data not always a good idea as it leads to high data loss\n",
    "\n",
    "2. Which market should we focus on first? \n",
    "    * the larger markets: France, Italy, US or all markets?\n",
    "\n",
    "3. Which products should we focus on first?\n",
    "    * focus on products with little competition ([0-5] bin), medium or high competition?\n"
   ]
  },
  {
   "cell_type": "code",
   "execution_count": null,
   "metadata": {
    "collapsed": true
   },
   "outputs": [],
   "source": []
  }
 ],
 "metadata": {
  "hide_input": false,
  "kernelspec": {
   "display_name": "Python [default]",
   "language": "python",
   "name": "python3"
  },
  "language_info": {
   "codemirror_mode": {
    "name": "ipython",
    "version": 3
   },
   "file_extension": ".py",
   "mimetype": "text/x-python",
   "name": "python",
   "nbconvert_exporter": "python",
   "pygments_lexer": "ipython3",
   "version": "3.5.2"
  },
  "latex_envs": {
   "LaTeX_envs_menu_present": false,
   "autocomplete": true,
   "bibliofile": "biblio.bib",
   "cite_by": "key",
   "current_citInitial": 1,
   "eqLabelWithNumbers": false,
   "eqNumInitial": 1,
   "hotkeys": {
    "equation": "Ctrl-E",
    "itemize": "Ctrl-I"
   },
   "labels_anchors": true,
   "latex_user_defs": false,
   "report_style_numbering": false,
   "user_envs_cfg": false
  },
  "toc": {
   "colors": {
    "hover_highlight": "#DAA520",
    "running_highlight": "#FF0000",
    "selected_highlight": "#FFD700"
   },
   "moveMenuLeft": true,
   "nav_menu": {
    "height": "504px",
    "width": "255px"
   },
   "navigate_menu": true,
   "number_sections": true,
   "sideBar": true,
   "threshold": 4,
   "toc_cell": true,
   "toc_section_display": "none",
   "toc_window_display": false,
   "widenNotebook": false
  },
  "varInspector": {
   "cols": {
    "lenName": 16,
    "lenType": 16,
    "lenVar": 40
   },
   "kernels_config": {
    "python": {
     "delete_cmd_postfix": "",
     "delete_cmd_prefix": "del ",
     "library": "var_list.py",
     "varRefreshCmd": "print(var_dic_list())"
    },
    "r": {
     "delete_cmd_postfix": ") ",
     "delete_cmd_prefix": "rm(",
     "library": "var_list.r",
     "varRefreshCmd": "cat(var_dic_list()) "
    }
   },
   "types_to_exclude": [
    "module",
    "function",
    "builtin_function_or_method",
    "instance",
    "_Feature"
   ],
   "window_display": false
  }
 },
 "nbformat": 4,
 "nbformat_minor": 2
}
